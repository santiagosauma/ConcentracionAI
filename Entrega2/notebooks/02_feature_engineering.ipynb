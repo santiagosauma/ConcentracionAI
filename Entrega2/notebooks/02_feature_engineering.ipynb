{
 "cells": [
  {
   "cell_type": "markdown",
   "id": "fd126e85",
   "metadata": {},
   "source": [
    "# Feature Engineering"
   ]
  },
  {
   "cell_type": "markdown",
   "id": "f1ea02e9",
   "metadata": {},
   "source": [
    "##### Importación de librerías"
   ]
  },
  {
   "cell_type": "code",
   "execution_count": 11,
   "id": "71d6345b",
   "metadata": {},
   "outputs": [],
   "source": [
    "\n",
    "import pandas as pd\n",
    "import numpy as np\n",
    "import matplotlib.pyplot as plt\n",
    "import seaborn as sns\n",
    "from pathlib import Path\n",
    "import warnings\n",
    "warnings.filterwarnings('ignore')\n",
    "import re"
   ]
  },
  {
   "cell_type": "markdown",
   "id": "42ad60cb",
   "metadata": {},
   "source": [
    "##### Configuración de visualización"
   ]
  },
  {
   "cell_type": "code",
   "execution_count": 4,
   "id": "7f667b7f",
   "metadata": {},
   "outputs": [],
   "source": [
    "plt.style.use('default')\n",
    "sns.set_palette(\"husl\")\n",
    "plt.rcParams['figure.figsize'] = (10, 6)"
   ]
  },
  {
   "cell_type": "markdown",
   "id": "4bad69be",
   "metadata": {},
   "source": [
    "##### Carga de dataset"
   ]
  },
  {
   "cell_type": "code",
   "execution_count": null,
   "id": "50d14fd0",
   "metadata": {},
   "outputs": [
    {
     "data": {
      "text/html": [
       "<div>\n",
       "<style scoped>\n",
       "    .dataframe tbody tr th:only-of-type {\n",
       "        vertical-align: middle;\n",
       "    }\n",
       "\n",
       "    .dataframe tbody tr th {\n",
       "        vertical-align: top;\n",
       "    }\n",
       "\n",
       "    .dataframe thead th {\n",
       "        text-align: right;\n",
       "    }\n",
       "</style>\n",
       "<table border=\"1\" class=\"dataframe\">\n",
       "  <thead>\n",
       "    <tr style=\"text-align: right;\">\n",
       "      <th></th>\n",
       "      <th>PassengerId</th>\n",
       "      <th>Survived</th>\n",
       "      <th>Pclass</th>\n",
       "      <th>Name</th>\n",
       "      <th>Sex</th>\n",
       "      <th>Age</th>\n",
       "      <th>SibSp</th>\n",
       "      <th>Parch</th>\n",
       "      <th>Ticket</th>\n",
       "      <th>Fare</th>\n",
       "      <th>Cabin</th>\n",
       "      <th>Embarked</th>\n",
       "    </tr>\n",
       "  </thead>\n",
       "  <tbody>\n",
       "    <tr>\n",
       "      <th>0</th>\n",
       "      <td>1</td>\n",
       "      <td>0</td>\n",
       "      <td>3</td>\n",
       "      <td>Braund, Mr. Owen Harris</td>\n",
       "      <td>male</td>\n",
       "      <td>22.0</td>\n",
       "      <td>1</td>\n",
       "      <td>0</td>\n",
       "      <td>A/5 21171</td>\n",
       "      <td>7.2500</td>\n",
       "      <td>NaN</td>\n",
       "      <td>S</td>\n",
       "    </tr>\n",
       "    <tr>\n",
       "      <th>1</th>\n",
       "      <td>2</td>\n",
       "      <td>1</td>\n",
       "      <td>1</td>\n",
       "      <td>Cumings, Mrs. John Bradley (Florence Briggs Th...</td>\n",
       "      <td>female</td>\n",
       "      <td>38.0</td>\n",
       "      <td>1</td>\n",
       "      <td>0</td>\n",
       "      <td>PC 17599</td>\n",
       "      <td>71.2833</td>\n",
       "      <td>C85</td>\n",
       "      <td>C</td>\n",
       "    </tr>\n",
       "    <tr>\n",
       "      <th>2</th>\n",
       "      <td>3</td>\n",
       "      <td>1</td>\n",
       "      <td>3</td>\n",
       "      <td>Heikkinen, Miss. Laina</td>\n",
       "      <td>female</td>\n",
       "      <td>26.0</td>\n",
       "      <td>0</td>\n",
       "      <td>0</td>\n",
       "      <td>STON/O2. 3101282</td>\n",
       "      <td>7.9250</td>\n",
       "      <td>NaN</td>\n",
       "      <td>S</td>\n",
       "    </tr>\n",
       "    <tr>\n",
       "      <th>3</th>\n",
       "      <td>4</td>\n",
       "      <td>1</td>\n",
       "      <td>1</td>\n",
       "      <td>Futrelle, Mrs. Jacques Heath (Lily May Peel)</td>\n",
       "      <td>female</td>\n",
       "      <td>35.0</td>\n",
       "      <td>1</td>\n",
       "      <td>0</td>\n",
       "      <td>113803</td>\n",
       "      <td>53.1000</td>\n",
       "      <td>C123</td>\n",
       "      <td>S</td>\n",
       "    </tr>\n",
       "    <tr>\n",
       "      <th>4</th>\n",
       "      <td>5</td>\n",
       "      <td>0</td>\n",
       "      <td>3</td>\n",
       "      <td>Allen, Mr. William Henry</td>\n",
       "      <td>male</td>\n",
       "      <td>35.0</td>\n",
       "      <td>0</td>\n",
       "      <td>0</td>\n",
       "      <td>373450</td>\n",
       "      <td>8.0500</td>\n",
       "      <td>NaN</td>\n",
       "      <td>S</td>\n",
       "    </tr>\n",
       "  </tbody>\n",
       "</table>\n",
       "</div>"
      ],
      "text/plain": [
       "   PassengerId  Survived  Pclass  \\\n",
       "0            1         0       3   \n",
       "1            2         1       1   \n",
       "2            3         1       3   \n",
       "3            4         1       1   \n",
       "4            5         0       3   \n",
       "\n",
       "                                                Name     Sex   Age  SibSp  \\\n",
       "0                            Braund, Mr. Owen Harris    male  22.0      1   \n",
       "1  Cumings, Mrs. John Bradley (Florence Briggs Th...  female  38.0      1   \n",
       "2                             Heikkinen, Miss. Laina  female  26.0      0   \n",
       "3       Futrelle, Mrs. Jacques Heath (Lily May Peel)  female  35.0      1   \n",
       "4                           Allen, Mr. William Henry    male  35.0      0   \n",
       "\n",
       "   Parch            Ticket     Fare Cabin Embarked  \n",
       "0      0         A/5 21171   7.2500   NaN        S  \n",
       "1      0          PC 17599  71.2833   C85        C  \n",
       "2      0  STON/O2. 3101282   7.9250   NaN        S  \n",
       "3      0            113803  53.1000  C123        S  \n",
       "4      0            373450   8.0500   NaN        S  "
      ]
     },
     "execution_count": 9,
     "metadata": {},
     "output_type": "execute_result"
    }
   ],
   "source": [
    "csv_ubi = Path(\"../data/Titanic-Dataset-Canvas.csv\")\n",
    "df = pd.read_csv(csv_ubi)\n",
    "df.head()"
   ]
  },
  {
   "cell_type": "markdown",
   "id": "8e658006",
   "metadata": {},
   "source": [
    "##### Feature 1 - Título (Title)\n",
    "Los títulos en los nombres reflejan estatus social, estado civil y edad aproximada."
   ]
  },
  {
   "cell_type": "code",
   "execution_count": 12,
   "id": "f9e29909",
   "metadata": {},
   "outputs": [
    {
     "name": "stdout",
     "output_type": "stream",
     "text": [
      "Títulos únicos encontrados en el dataset:\n",
      "['Capt', 'Col', 'Don', 'Dr', 'Jonkheer', 'Lady', 'Major', 'Master', 'Miss', 'Mlle', 'Mme', 'Mr', 'Mrs', 'Ms', 'Rev', 'Sir', 'the Countess']\n",
      "\n",
      "Mapeo generado automáticamente:\n",
      "'Capt' -> 'Rare'\n",
      "'Col' -> 'Rare'\n",
      "'Don' -> 'Rare'\n",
      "'Dr' -> 'Rare'\n",
      "'Jonkheer' -> 'Rare'\n",
      "'Lady' -> 'Rare'\n",
      "'Major' -> 'Rare'\n",
      "'Master' -> 'Master'\n",
      "'Miss' -> 'Miss'\n",
      "'Mlle' -> 'Miss'\n",
      "'Mme' -> 'Mrs'\n",
      "'Mr' -> 'Mr'\n",
      "'Mrs' -> 'Mrs'\n",
      "'Ms' -> 'Miss'\n",
      "'Rev' -> 'Rare'\n",
      "'Sir' -> 'Rare'\n",
      "'the Countess' -> 'Rare'\n"
     ]
    }
   ],
   "source": [
    "def extract_title(name):\n",
    "    if not isinstance(name, str):\n",
    "        return \"Unknown\"\n",
    "\n",
    "    match = re.search(r', \\s*([^\\.]+)\\.', name)\n",
    "    if not match:\n",
    "        return \"Unknown\"\n",
    "    \n",
    "    return match.group(1).strip()\n",
    "\n",
    "all_titles = df['Name'].apply(extract_title).unique()\n",
    "print(\"Títulos únicos encontrados en el dataset:\")\n",
    "print(sorted(all_titles))\n",
    "\n",
    "def create_title_mapping(titles):\n",
    "    main_titles = {\"Mr\", \"Mrs\", \"Miss\", \"Master\"}\n",
    "    \n",
    "    variations = {\n",
    "        \"Mlle\": \"Miss\",\n",
    "        \"Ms\": \"Miss\",\n",
    "        \"Mme\": \"Mrs\",\n",
    "    }\n",
    "\n",
    "    title_mapping = {}\n",
    "\n",
    "    for title in titles:\n",
    "        if title in main_titles:\n",
    "            title_mapping[title] = title\n",
    "        elif title in variations:\n",
    "            title_mapping[title] = variations[title]\n",
    "        else: title_mapping[title] = \"Rare\"\n",
    "\n",
    "    return title_mapping\n",
    "\n",
    "title_mapping = create_title_mapping(all_titles)\n",
    "print(\"\\nMapeo generado automáticamente:\")\n",
    "for original, mapped in sorted(title_mapping.items()):\n",
    "    print(f\"'{original}' -> '{mapped}'\")"
   ]
  },
  {
   "cell_type": "code",
   "execution_count": 13,
   "id": "a01f25d4",
   "metadata": {},
   "outputs": [
    {
     "name": "stdout",
     "output_type": "stream",
     "text": [
      "Distribución final de títulos:\n",
      "Title\n",
      "Mr        517\n",
      "Miss      185\n",
      "Mrs       126\n",
      "Master     40\n",
      "Rare       23\n",
      "Name: count, dtype: int64\n"
     ]
    }
   ],
   "source": [
    "def extract_and_map_title(name, mapping):\n",
    "    if not isinstance(name, str):\n",
    "        return \"Unknown\"\n",
    "    \n",
    "    match = re.search(r',\\s*([^\\.]+)\\.', name)\n",
    "    if not match:\n",
    "        return \"Unknown\"\n",
    "    \n",
    "    title = match.group(1).strip()\n",
    "    return mapping.get(title, \"Rare\")\n",
    "df['Title'] = df['Name'].apply(lambda x: extract_and_map_title(x, title_mapping))\n",
    "\n",
    "print(\"Distribución final de títulos:\")\n",
    "print(df['Title'].value_counts())"
   ]
  },
  {
   "cell_type": "markdown",
   "id": "4e37c772",
   "metadata": {},
   "source": [
    "##### Feature 2: Tamaño de la familia (Family Size)\n",
    "\n",
    "El tamaño de la familia puede influir en la supervivencia, ya que las familias más grandes pueden tener patrones diferentes de supervivencia."
   ]
  },
  {
   "cell_type": "code",
   "execution_count": 14,
   "id": "7714bedf",
   "metadata": {},
   "outputs": [
    {
     "name": "stdout",
     "output_type": "stream",
     "text": [
      "=== ANÁLISIS DE FEATURE: FAMILY SIZE ===\n",
      "Rango: 1 - 11\n",
      "Distribución:\n",
      "FamilySize\n",
      "1     537\n",
      "2     161\n",
      "3     102\n",
      "4      29\n",
      "5      15\n",
      "6      22\n",
      "7      12\n",
      "8       6\n",
      "11      7\n",
      "Name: count, dtype: int64\n",
      "\n",
      "Tasa de supervivencia por tamaño de familia:\n",
      "            Count  Survival_Rate\n",
      "FamilySize                      \n",
      "1             537          0.304\n",
      "2             161          0.553\n",
      "3             102          0.578\n",
      "4              29          0.724\n",
      "5              15          0.200\n",
      "6              22          0.136\n",
      "7              12          0.333\n",
      "8               6          0.000\n",
      "11              7          0.000\n"
     ]
    },
    {
     "data": {
      "image/png": "[encoded data removed]",
      "text/plain": [
       "<Figure size 1500x500 with 2 Axes>"
      ]
     },
     "metadata": {},
     "output_type": "display_data"
    }
   ],
   "source": [
    "def compute_family_size(sibsp, parch):\n",
    "    try:\n",
    "        return int(sibsp) + int(parch) + 1\n",
    "    except (ValueError, TypeError):\n",
    "        s = pd.to_numeric(pd.Series([sibsp]), errors='coerce').iloc[0]\n",
    "        p = pd.to_numeric(pd.Series([parch]), errors='coerce').iloc[0]\n",
    "        s = 0 if pd.isna(s) else int(s)\n",
    "        p = 0 if pd.isna(p) else int(p)\n",
    "        return s + p + 1\n",
    "\n",
    "df['FamilySize'] = [compute_family_size(s, p) for s, p in zip(df['SibSp'], df['Parch'])]\n",
    "\n",
    "print(\"=== ANÁLISIS DE FEATURE: FAMILY SIZE ===\")\n",
    "print(f\"Rango: {df['FamilySize'].min()} - {df['FamilySize'].max()}\")\n",
    "print(f\"Distribución:\")\n",
    "family_counts = df['FamilySize'].value_counts().sort_index()\n",
    "print(family_counts)\n",
    "\n",
    "if 'Survived' in df.columns:\n",
    "    survival_by_family = df.groupby('FamilySize')['Survived'].agg(['count', 'mean']).round(3)\n",
    "    survival_by_family.columns = ['Count', 'Survival_Rate']\n",
    "    print(f\"\\nTasa de supervivencia por tamaño de familia:\")\n",
    "    print(survival_by_family)\n",
    "\n",
    "    fig, (ax1, ax2) = plt.subplots(1, 2, figsize=(15, 5))\n",
    "\n",
    "    family_counts.plot(kind='bar', ax=ax1)\n",
    "    ax1.set_title('Distribución de Tamaño de Familia')\n",
    "    ax1.set_xlabel('Tamaño de Familia')\n",
    "    ax1.set_ylabel('Número de Pasajeros')\n",
    "\n",
    "    survival_by_family['Survival_Rate'].plot(kind='bar', ax=ax2, color='orange')\n",
    "    ax2.set_title('Tasa de Supervivencia por Tamaño de Familia')\n",
    "    ax2.set_xlabel('Tamaño de Familia')\n",
    "    ax2.set_ylabel('Tasa de Supervivencia')\n",
    "    ax2.axhline(y=df['Survived'].mean(), color='red', linestyle='--', label='Promedio General')\n",
    "    ax2.legend()\n",
    "    \n",
    "    plt.tight_layout()\n",
    "    plt.show()"
   ]
  },
  {
   "cell_type": "markdown",
   "id": "0bd815e9",
   "metadata": {},
   "source": [
    "##### Feature 3: Viajero solo (isAlone)\n",
    "Personas que viajan solas igualmente pueden tener diferentes patrones de supervivencia, y pueden ser más vulnerables en situaciones de emergencia."
   ]
  },
  {
   "cell_type": "code",
   "execution_count": 15,
   "id": "d653abef",
   "metadata": {},
   "outputs": [
    {
     "name": "stdout",
     "output_type": "stream",
     "text": [
      "=== ANÁLISIS DE FEATURE: IS ALONE ===\n",
      "Distribución:\n",
      "Viajan acompañados (0): 354\n",
      "Viajan solos (1): 537\n",
      "Porcentaje que viaja solo: 60.3%\n",
      "\n",
      "Tasa de supervivencia por tipo de viaje:\n",
      "            Count  Survival_Rate\n",
      "Acompañado    354          0.506\n",
      "Solo          537          0.304\n"
     ]
    },
    {
     "data": {
      "image/png": "[encoded data removed]",
      "text/plain": [
       "<Figure size 1500x500 with 2 Axes>"
      ]
     },
     "metadata": {},
     "output_type": "display_data"
    },
    {
     "name": "stdout",
     "output_type": "stream",
     "text": [
      "\n",
      "Verificación cruzada con FamilySize:\n",
      "IsAlone       0    1  All\n",
      "FamilySize               \n",
      "1             0  537  537\n",
      "2           161    0  161\n",
      "3           102    0  102\n",
      "4            29    0   29\n",
      "5            15    0   15\n",
      "6            22    0   22\n",
      "7            12    0   12\n",
      "8             6    0    6\n",
      "11            7    0    7\n",
      "All         354  537  891\n"
     ]
    }
   ],
   "source": [
    "def compute_is_alone(family_size):\n",
    "    try:\n",
    "        return 1 if int(family_size) == 1 else 0\n",
    "    except (ValueError, TypeError):\n",
    "        return 0\n",
    "\n",
    "df['IsAlone'] = df['FamilySize'].apply(compute_is_alone)\n",
    "\n",
    "print(\"=== ANÁLISIS DE FEATURE: IS ALONE ===\")\n",
    "print(f\"Distribución:\")\n",
    "alone_counts = df['IsAlone'].value_counts().sort_index()\n",
    "print(f\"Viajan acompañados (0): {alone_counts[0]}\")\n",
    "print(f\"Viajan solos (1): {alone_counts[1]}\")\n",
    "print(f\"Porcentaje que viaja solo: {(alone_counts[1] / len(df)) * 100:.1f}%\")\n",
    "\n",
    "if 'Survived' in df.columns:\n",
    "    survival_by_alone = df.groupby('IsAlone')['Survived'].agg(['count', 'mean']).round(3)\n",
    "    survival_by_alone.columns = ['Count', 'Survival_Rate']\n",
    "    survival_by_alone.index = ['Acompañado', 'Solo']\n",
    "    print(f\"\\nTasa de supervivencia por tipo de viaje:\")\n",
    "    print(survival_by_alone)\n",
    "    \n",
    "    fig, (ax1, ax2) = plt.subplots(1, 2, figsize=(15, 5))\n",
    "    \n",
    "    alone_counts.plot(kind='bar', ax=ax1, color=['skyblue', 'orange'])\n",
    "    ax1.set_title('Distribución: Solos vs Acompañados')\n",
    "    ax1.set_xlabel('Tipo de Viaje')\n",
    "    ax1.set_ylabel('Número de Pasajeros')\n",
    "    ax1.set_xticklabels(['Acompañado', 'Solo'], rotation=0)\n",
    "\n",
    "    survival_by_alone['Survival_Rate'].plot(kind='bar', ax=ax2, color=['skyblue', 'orange'])\n",
    "    ax2.set_title('Tasa de Supervivencia: Solos vs Acompañados')\n",
    "    ax2.set_xlabel('Tipo de Viaje')\n",
    "    ax2.set_ylabel('Tasa de Supervivencia')\n",
    "    ax2.axhline(y=df['Survived'].mean(), color='red', linestyle='--', label='Promedio General')\n",
    "    ax2.legend()\n",
    "    ax2.set_xticklabels(['Acompañado', 'Solo'], rotation=0)\n",
    "    \n",
    "    plt.tight_layout()\n",
    "    plt.show()\n",
    "\n",
    "print(f\"\\nVerificación cruzada con FamilySize:\")\n",
    "cross_check = pd.crosstab(df['FamilySize'], df['IsAlone'], margins=True)\n",
    "print(cross_check)"
   ]
  }
 ],
 "metadata": {
  "kernelspec": {
   "display_name": "Python 3",
   "language": "python",
   "name": "python3"
  },
  "language_info": {
   "codemirror_mode": {
    "name": "ipython",
    "version": 3
   },
   "file_extension": ".py",
   "mimetype": "text/x-python",
   "name": "python",
   "nbconvert_exporter": "python",
   "pygments_lexer": "ipython3",
   "version": "3.13.2"
  }
 },
 "nbformat": 4,
 "nbformat_minor": 5
}
