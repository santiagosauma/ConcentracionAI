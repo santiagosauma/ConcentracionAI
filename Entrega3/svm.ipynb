{
 "cells": [
  {
   "cell_type": "markdown",
   "id": "788e88ce",
   "metadata": {},
   "source": [
    "## Modelo svm"
   ]
  },
  {
   "cell_type": "code",
   "execution_count": 40,
   "id": "2608aff4",
   "metadata": {},
   "outputs": [],
   "source": [
    "import numpy as np\n",
    "import pandas as pd\n",
    "import matplotlib.pyplot as plt\n",
    "import seaborn as sns\n",
    "%matplotlib inline"
   ]
  },
  {
   "cell_type": "code",
   "execution_count": 41,
   "id": "08babdfa",
   "metadata": {},
   "outputs": [
    {
     "data": {
      "application/vnd.microsoft.datawrangler.viewer.v0+json": {
       "columns": [
        {
         "name": "index",
         "rawType": "int64",
         "type": "integer"
        },
        {
         "name": "PassengerId",
         "rawType": "int64",
         "type": "integer"
        },
        {
         "name": "Survived",
         "rawType": "int64",
         "type": "integer"
        },
        {
         "name": "Pclass",
         "rawType": "int64",
         "type": "integer"
        },
        {
         "name": "Name",
         "rawType": "object",
         "type": "string"
        },
        {
         "name": "Sex",
         "rawType": "object",
         "type": "string"
        },
        {
         "name": "Age",
         "rawType": "float64",
         "type": "float"
        },
        {
         "name": "SibSp",
         "rawType": "int64",
         "type": "integer"
        },
        {
         "name": "Parch",
         "rawType": "int64",
         "type": "integer"
        },
        {
         "name": "Ticket",
         "rawType": "object",
         "type": "string"
        },
        {
         "name": "Fare",
         "rawType": "float64",
         "type": "float"
        },
        {
         "name": "Cabin",
         "rawType": "object",
         "type": "unknown"
        },
        {
         "name": "Embarked",
         "rawType": "object",
         "type": "string"
        }
       ],
       "ref": "881d619b-a72b-4628-bfe2-71e3203b1139",
       "rows": [
        [
         "0",
         "1",
         "0",
         "3",
         "Braund, Mr. Owen Harris",
         "male",
         "22.0",
         "1",
         "0",
         "A/5 21171",
         "7.25",
         null,
         "S"
        ],
        [
         "1",
         "2",
         "1",
         "1",
         "Cumings, Mrs. John Bradley (Florence Briggs Thayer)",
         "female",
         "38.0",
         "1",
         "0",
         "PC 17599",
         "71.2833",
         "C85",
         "C"
        ],
        [
         "2",
         "3",
         "1",
         "3",
         "Heikkinen, Miss. Laina",
         "female",
         "26.0",
         "0",
         "0",
         "STON/O2. 3101282",
         "7.925",
         null,
         "S"
        ],
        [
         "3",
         "4",
         "1",
         "1",
         "Futrelle, Mrs. Jacques Heath (Lily May Peel)",
         "female",
         "35.0",
         "1",
         "0",
         "113803",
         "53.1",
         "C123",
         "S"
        ],
        [
         "4",
         "5",
         "0",
         "3",
         "Allen, Mr. William Henry",
         "male",
         "35.0",
         "0",
         "0",
         "373450",
         "8.05",
         null,
         "S"
        ]
       ],
       "shape": {
        "columns": 12,
        "rows": 5
       }
      },
      "text/html": [
       "<div>\n",
       "<style scoped>\n",
       "    .dataframe tbody tr th:only-of-type {\n",
       "        vertical-align: middle;\n",
       "    }\n",
       "\n",
       "    .dataframe tbody tr th {\n",
       "        vertical-align: top;\n",
       "    }\n",
       "\n",
       "    .dataframe thead th {\n",
       "        text-align: right;\n",
       "    }\n",
       "</style>\n",
       "<table border=\"1\" class=\"dataframe\">\n",
       "  <thead>\n",
       "    <tr style=\"text-align: right;\">\n",
       "      <th></th>\n",
       "      <th>PassengerId</th>\n",
       "      <th>Survived</th>\n",
       "      <th>Pclass</th>\n",
       "      <th>Name</th>\n",
       "      <th>Sex</th>\n",
       "      <th>Age</th>\n",
       "      <th>SibSp</th>\n",
       "      <th>Parch</th>\n",
       "      <th>Ticket</th>\n",
       "      <th>Fare</th>\n",
       "      <th>Cabin</th>\n",
       "      <th>Embarked</th>\n",
       "    </tr>\n",
       "  </thead>\n",
       "  <tbody>\n",
       "    <tr>\n",
       "      <th>0</th>\n",
       "      <td>1</td>\n",
       "      <td>0</td>\n",
       "      <td>3</td>\n",
       "      <td>Braund, Mr. Owen Harris</td>\n",
       "      <td>male</td>\n",
       "      <td>22.0</td>\n",
       "      <td>1</td>\n",
       "      <td>0</td>\n",
       "      <td>A/5 21171</td>\n",
       "      <td>7.2500</td>\n",
       "      <td>NaN</td>\n",
       "      <td>S</td>\n",
       "    </tr>\n",
       "    <tr>\n",
       "      <th>1</th>\n",
       "      <td>2</td>\n",
       "      <td>1</td>\n",
       "      <td>1</td>\n",
       "      <td>Cumings, Mrs. John Bradley (Florence Briggs Th...</td>\n",
       "      <td>female</td>\n",
       "      <td>38.0</td>\n",
       "      <td>1</td>\n",
       "      <td>0</td>\n",
       "      <td>PC 17599</td>\n",
       "      <td>71.2833</td>\n",
       "      <td>C85</td>\n",
       "      <td>C</td>\n",
       "    </tr>\n",
       "    <tr>\n",
       "      <th>2</th>\n",
       "      <td>3</td>\n",
       "      <td>1</td>\n",
       "      <td>3</td>\n",
       "      <td>Heikkinen, Miss. Laina</td>\n",
       "      <td>female</td>\n",
       "      <td>26.0</td>\n",
       "      <td>0</td>\n",
       "      <td>0</td>\n",
       "      <td>STON/O2. 3101282</td>\n",
       "      <td>7.9250</td>\n",
       "      <td>NaN</td>\n",
       "      <td>S</td>\n",
       "    </tr>\n",
       "    <tr>\n",
       "      <th>3</th>\n",
       "      <td>4</td>\n",
       "      <td>1</td>\n",
       "      <td>1</td>\n",
       "      <td>Futrelle, Mrs. Jacques Heath (Lily May Peel)</td>\n",
       "      <td>female</td>\n",
       "      <td>35.0</td>\n",
       "      <td>1</td>\n",
       "      <td>0</td>\n",
       "      <td>113803</td>\n",
       "      <td>53.1000</td>\n",
       "      <td>C123</td>\n",
       "      <td>S</td>\n",
       "    </tr>\n",
       "    <tr>\n",
       "      <th>4</th>\n",
       "      <td>5</td>\n",
       "      <td>0</td>\n",
       "      <td>3</td>\n",
       "      <td>Allen, Mr. William Henry</td>\n",
       "      <td>male</td>\n",
       "      <td>35.0</td>\n",
       "      <td>0</td>\n",
       "      <td>0</td>\n",
       "      <td>373450</td>\n",
       "      <td>8.0500</td>\n",
       "      <td>NaN</td>\n",
       "      <td>S</td>\n",
       "    </tr>\n",
       "  </tbody>\n",
       "</table>\n",
       "</div>"
      ],
      "text/plain": [
       "   PassengerId  Survived  Pclass  \\\n",
       "0            1         0       3   \n",
       "1            2         1       1   \n",
       "2            3         1       3   \n",
       "3            4         1       1   \n",
       "4            5         0       3   \n",
       "\n",
       "                                                Name     Sex   Age  SibSp  \\\n",
       "0                            Braund, Mr. Owen Harris    male  22.0      1   \n",
       "1  Cumings, Mrs. John Bradley (Florence Briggs Th...  female  38.0      1   \n",
       "2                             Heikkinen, Miss. Laina  female  26.0      0   \n",
       "3       Futrelle, Mrs. Jacques Heath (Lily May Peel)  female  35.0      1   \n",
       "4                           Allen, Mr. William Henry    male  35.0      0   \n",
       "\n",
       "   Parch            Ticket     Fare Cabin Embarked  \n",
       "0      0         A/5 21171   7.2500   NaN        S  \n",
       "1      0          PC 17599  71.2833   C85        C  \n",
       "2      0  STON/O2. 3101282   7.9250   NaN        S  \n",
       "3      0            113803  53.1000  C123        S  \n",
       "4      0            373450   8.0500   NaN        S  "
      ]
     },
     "execution_count": 41,
     "metadata": {},
     "output_type": "execute_result"
    }
   ],
   "source": [
    "df = pd.read_csv('../Entrega2/data/Titanic-Dataset-Canvas.csv')\n",
    "df.head()"
   ]
  },
  {
   "cell_type": "code",
   "execution_count": 42,
   "id": "a76ebbf5",
   "metadata": {},
   "outputs": [
    {
     "name": "stdout",
     "output_type": "stream",
     "text": [
      "<class 'pandas.core.frame.DataFrame'>\n",
      "RangeIndex: 891 entries, 0 to 890\n",
      "Data columns (total 12 columns):\n",
      " #   Column       Non-Null Count  Dtype  \n",
      "---  ------       --------------  -----  \n",
      " 0   PassengerId  891 non-null    int64  \n",
      " 1   Survived     891 non-null    int64  \n",
      " 2   Pclass       891 non-null    int64  \n",
      " 3   Name         891 non-null    object \n",
      " 4   Sex          891 non-null    object \n",
      " 5   Age          714 non-null    float64\n",
      " 6   SibSp        891 non-null    int64  \n",
      " 7   Parch        891 non-null    int64  \n",
      " 8   Ticket       891 non-null    object \n",
      " 9   Fare         891 non-null    float64\n",
      " 10  Cabin        204 non-null    object \n",
      " 11  Embarked     889 non-null    object \n",
      "dtypes: float64(2), int64(5), object(5)\n",
      "memory usage: 83.7+ KB\n"
     ]
    }
   ],
   "source": [
    "df.info()"
   ]
  },
  {
   "cell_type": "code",
   "execution_count": 43,
   "id": "81ef50b0",
   "metadata": {},
   "outputs": [
    {
     "data": {
      "application/vnd.microsoft.datawrangler.viewer.v0+json": {
       "columns": [
        {
         "name": "Survived",
         "rawType": "int64",
         "type": "integer"
        },
        {
         "name": "count",
         "rawType": "int64",
         "type": "integer"
        }
       ],
       "ref": "5098841f-f3cf-430f-84c0-19af404ec801",
       "rows": [
        [
         "0",
         "549"
        ],
        [
         "1",
         "342"
        ]
       ],
       "shape": {
        "columns": 1,
        "rows": 2
       }
      },
      "text/plain": [
       "Survived\n",
       "0    549\n",
       "1    342\n",
       "Name: count, dtype: int64"
      ]
     },
     "execution_count": 43,
     "metadata": {},
     "output_type": "execute_result"
    }
   ],
   "source": [
    "df['Survived'].value_counts()"
   ]
  },
  {
   "cell_type": "markdown",
   "id": "8fe047e3",
   "metadata": {},
   "source": [
    "### Data engineering"
   ]
  },
  {
   "cell_type": "code",
   "execution_count": 44,
   "id": "4ce20988",
   "metadata": {},
   "outputs": [
    {
     "data": {
      "application/vnd.microsoft.datawrangler.viewer.v0+json": {
       "columns": [
        {
         "name": "index",
         "rawType": "object",
         "type": "string"
        },
        {
         "name": "0",
         "rawType": "float64",
         "type": "float"
        }
       ],
       "ref": "c2bccf68-97d4-4b67-adc5-585626d7ecdd",
       "rows": [
        [
         "PassengerId",
         "0.0"
        ],
        [
         "Survived",
         "0.0"
        ],
        [
         "Pclass",
         "0.0"
        ],
        [
         "Name",
         "0.0"
        ],
        [
         "Sex",
         "0.0"
        ],
        [
         "Age",
         "19.865319865319865"
        ],
        [
         "SibSp",
         "0.0"
        ],
        [
         "Parch",
         "0.0"
        ],
        [
         "Ticket",
         "0.0"
        ],
        [
         "Fare",
         "0.0"
        ],
        [
         "Cabin",
         "77.10437710437711"
        ],
        [
         "Embarked",
         "0.22446689113355783"
        ]
       ],
       "shape": {
        "columns": 1,
        "rows": 12
       }
      },
      "text/plain": [
       "PassengerId     0.000000\n",
       "Survived        0.000000\n",
       "Pclass          0.000000\n",
       "Name            0.000000\n",
       "Sex             0.000000\n",
       "Age            19.865320\n",
       "SibSp           0.000000\n",
       "Parch           0.000000\n",
       "Ticket          0.000000\n",
       "Fare            0.000000\n",
       "Cabin          77.104377\n",
       "Embarked        0.224467\n",
       "dtype: float64"
      ]
     },
     "execution_count": 44,
     "metadata": {},
     "output_type": "execute_result"
    }
   ],
   "source": [
    "((df.isnull().sum())/len(df))*100"
   ]
  },
  {
   "cell_type": "code",
   "execution_count": 45,
   "id": "f863308d",
   "metadata": {},
   "outputs": [
    {
     "name": "stderr",
     "output_type": "stream",
     "text": [
      "C:\\Users\\rgarz\\AppData\\Local\\Temp\\ipykernel_27300\\1924632447.py:2: FutureWarning: A value is trying to be set on a copy of a DataFrame or Series through chained assignment using an inplace method.\n",
      "The behavior will change in pandas 3.0. This inplace method will never work because the intermediate object on which we are setting values always behaves as a copy.\n",
      "\n",
      "For example, when doing 'df[col].method(value, inplace=True)', try using 'df.method({col: value}, inplace=True)' or df[col] = df[col].method(value) instead, to perform the operation inplace on the original object.\n",
      "\n",
      "\n",
      "  df['Age'].fillna(df['Age'].mean(), inplace = True)\n"
     ]
    },
    {
     "data": {
      "application/vnd.microsoft.datawrangler.viewer.v0+json": {
       "columns": [
        {
         "name": "index",
         "rawType": "object",
         "type": "string"
        },
        {
         "name": "0",
         "rawType": "float64",
         "type": "float"
        }
       ],
       "ref": "e56b000f-efa3-42a8-81c9-af7ae5e2c397",
       "rows": [
        [
         "PassengerId",
         "0.0"
        ],
        [
         "Survived",
         "0.0"
        ],
        [
         "Pclass",
         "0.0"
        ],
        [
         "Name",
         "0.0"
        ],
        [
         "Sex",
         "0.0"
        ],
        [
         "Age",
         "0.0"
        ],
        [
         "SibSp",
         "0.0"
        ],
        [
         "Parch",
         "0.0"
        ],
        [
         "Ticket",
         "0.0"
        ],
        [
         "Fare",
         "0.0"
        ],
        [
         "Embarked",
         "0.22446689113355783"
        ]
       ],
       "shape": {
        "columns": 1,
        "rows": 11
       }
      },
      "text/plain": [
       "PassengerId    0.000000\n",
       "Survived       0.000000\n",
       "Pclass         0.000000\n",
       "Name           0.000000\n",
       "Sex            0.000000\n",
       "Age            0.000000\n",
       "SibSp          0.000000\n",
       "Parch          0.000000\n",
       "Ticket         0.000000\n",
       "Fare           0.000000\n",
       "Embarked       0.224467\n",
       "dtype: float64"
      ]
     },
     "execution_count": 45,
     "metadata": {},
     "output_type": "execute_result"
    }
   ],
   "source": [
    "df.drop('Cabin',axis=1,inplace=True)\n",
    "df['Age'].fillna(df['Age'].mean(), inplace = True)\n",
    "\n",
    "((df.isnull().sum())/len(df))*100"
   ]
  },
  {
   "cell_type": "code",
   "execution_count": 46,
   "id": "8756034c",
   "metadata": {},
   "outputs": [
    {
     "data": {
      "application/vnd.microsoft.datawrangler.viewer.v0+json": {
       "columns": [
        {
         "name": "index",
         "rawType": "object",
         "type": "string"
        },
        {
         "name": "0",
         "rawType": "float64",
         "type": "float"
        }
       ],
       "ref": "ebe24418-ccfa-4499-8fc4-642ae11ed507",
       "rows": [
        [
         "Embarked",
         "0.22446689113355783"
        ]
       ],
       "shape": {
        "columns": 1,
        "rows": 1
       }
      },
      "text/plain": [
       "Embarked    0.224467\n",
       "dtype: float64"
      ]
     },
     "execution_count": 46,
     "metadata": {},
     "output_type": "execute_result"
    }
   ],
   "source": [
    "def missing_percent(df):\n",
    "    nan_percent=((df.isnull().sum())/len(df))*100\n",
    "    nan_percent=nan_percent[nan_percent>0].sort_values()\n",
    "    return nan_percent\n",
    "nan_percent=missing_percent(df)\n",
    "nan_percent"
   ]
  },
  {
   "cell_type": "code",
   "execution_count": 47,
   "id": "422eda4d",
   "metadata": {},
   "outputs": [
    {
     "data": {
      "application/vnd.microsoft.datawrangler.viewer.v0+json": {
       "columns": [
        {
         "name": "index",
         "rawType": "object",
         "type": "string"
        },
        {
         "name": "0",
         "rawType": "float64",
         "type": "float"
        }
       ],
       "ref": "f7e00c91-0449-4c6b-a0f0-9349d4978666",
       "rows": [],
       "shape": {
        "columns": 1,
        "rows": 0
       }
      },
      "text/plain": [
       "Series([], dtype: float64)"
      ]
     },
     "execution_count": 47,
     "metadata": {},
     "output_type": "execute_result"
    }
   ],
   "source": [
    "df.drop(['PassengerId','Name','Ticket','Fare','Embarked'],axis=1, inplace=True)\n",
    "df.loc[df['Sex']=='male','Sex']=1\n",
    "df.loc[df['Sex']=='female','Sex']=0\n",
    "nan_percent=missing_percent(df)\n",
    "nan_percent"
   ]
  },
  {
   "cell_type": "markdown",
   "id": "ef73ee9b",
   "metadata": {},
   "source": [
    "### EDA"
   ]
  },
  {
   "cell_type": "code",
   "execution_count": 48,
   "id": "df200550",
   "metadata": {},
   "outputs": [
    {
     "data": {
      "application/vnd.microsoft.datawrangler.viewer.v0+json": {
       "columns": [
        {
         "name": "index",
         "rawType": "object",
         "type": "string"
        },
        {
         "name": "Survived",
         "rawType": "float64",
         "type": "float"
        }
       ],
       "ref": "2ab72e58-1dad-46a1-9f1f-05d31ec9b37e",
       "rows": [
        [
         "Sex",
         "-0.543351380657755"
        ],
        [
         "Pclass",
         "-0.33848103596101514"
        ],
        [
         "Age",
         "-0.06980851528714313"
        ],
        [
         "SibSp",
         "-0.035322498885735576"
        ],
        [
         "Parch",
         "0.08162940708348335"
        ],
        [
         "Survived",
         "1.0"
        ]
       ],
       "shape": {
        "columns": 1,
        "rows": 6
       }
      },
      "text/plain": [
       "Sex        -0.543351\n",
       "Pclass     -0.338481\n",
       "Age        -0.069809\n",
       "SibSp      -0.035322\n",
       "Parch       0.081629\n",
       "Survived    1.000000\n",
       "Name: Survived, dtype: float64"
      ]
     },
     "execution_count": 48,
     "metadata": {},
     "output_type": "execute_result"
    }
   ],
   "source": [
    "df.corr()['Survived'].sort_values()"
   ]
  },
  {
   "cell_type": "code",
   "execution_count": 49,
   "id": "84918377",
   "metadata": {},
   "outputs": [
    {
     "data": {
      "text/plain": [
       "<Axes: >"
      ]
     },
     "execution_count": 49,
     "metadata": {},
     "output_type": "execute_result"
    },
    {
     "data": {
      "image/png": "[encoded data removed]",
      "text/plain": [
       "<Figure size 640x480 with 2 Axes>"
      ]
     },
     "metadata": {},
     "output_type": "display_data"
    }
   ],
   "source": [
    "sns.heatmap(df.corr(),annot=True,cmap=\"prism\")"
   ]
  },
  {
   "cell_type": "markdown",
   "id": "57f84c81",
   "metadata": {},
   "source": [
    "### Entrenando el modelo"
   ]
  },
  {
   "cell_type": "code",
   "execution_count": 50,
   "id": "1f30e910",
   "metadata": {},
   "outputs": [],
   "source": [
    "X=df.drop('Survived',axis=1)\n",
    "y=df['Survived']"
   ]
  },
  {
   "cell_type": "code",
   "execution_count": 51,
   "id": "3fbf9089",
   "metadata": {},
   "outputs": [
    {
     "name": "stdout",
     "output_type": "stream",
     "text": [
      "Dataset dividido:\n",
      "  Train: 623 muestras (69.9%)\n",
      "  Validation: 134 muestras (15.0%)\n",
      "  Test: 134 muestras (15.0%)\n",
      "\n",
      "Distribución de clases:\n",
      "  Train - Survived: 239/623 (38.4%)\n",
      "  Val   - Survived: 52/134 (38.8%)\n",
      "  Test  - Survived: 51/134 (38.1%)\n"
     ]
    }
   ],
   "source": [
    "from sklearn.model_selection import train_test_split\n",
    "# Usar split más balanceado: 70% train, 15% validation, 15% test\n",
    "X_temp, X_test, y_temp, y_test = train_test_split(X, y, test_size=0.15, random_state=42, stratify=y)\n",
    "X_train, X_val, y_train, y_val = train_test_split(X_temp, y_temp, test_size=0.176, random_state=42, stratify=y_temp)  # 0.176 ≈ 0.15/0.85\n",
    "\n",
    "print(f\"Dataset dividido:\")\n",
    "print(f\"  Train: {X_train.shape[0]} muestras ({X_train.shape[0]/len(X)*100:.1f}%)\")\n",
    "print(f\"  Validation: {X_val.shape[0]} muestras ({X_val.shape[0]/len(X)*100:.1f}%)\")\n",
    "print(f\"  Test: {X_test.shape[0]} muestras ({X_test.shape[0]/len(X)*100:.1f}%)\")\n",
    "\n",
    "print(f\"\\nDistribución de clases:\")\n",
    "print(f\"  Train - Survived: {y_train.sum()}/{len(y_train)} ({y_train.mean():.1%})\")\n",
    "print(f\"  Val   - Survived: {y_val.sum()}/{len(y_val)} ({y_val.mean():.1%})\")\n",
    "print(f\"  Test  - Survived: {y_test.sum()}/{len(y_test)} ({y_test.mean():.1%})\")"
   ]
  },
  {
   "cell_type": "code",
   "execution_count": 52,
   "id": "71a6c6ed",
   "metadata": {},
   "outputs": [
    {
     "name": "stdout",
     "output_type": "stream",
     "text": [
      "Aplicando StandardScaler...\n",
      "Características escaladas:\n",
      "  Train: (623, 5)\n",
      "  Val:   (134, 5)\n",
      "  Test:  (134, 5)\n",
      "\n",
      "Verificación de normalización (Train set):\n",
      "  Sex: media=-0.000, std=1.000\n",
      "  Pclass: media=-0.000, std=1.000\n",
      "  Age: media=-0.000, std=1.000\n",
      "  SibSp: media=0.000, std=1.000\n",
      "  Parch: media=-0.000, std=1.000\n",
      "\n",
      "✅ Scaler guardado en 'models/svm_scaler.pkl'\n"
     ]
    }
   ],
   "source": [
    "from sklearn.preprocessing import StandardScaler\n",
    "\n",
    "# CORREGIR: Aplicar StandardScaler correctamente\n",
    "print(\"Aplicando StandardScaler...\")\n",
    "scaler = StandardScaler()\n",
    "\n",
    "# Fit en train, transform en todos los conjuntos\n",
    "scaler.fit(X_train)\n",
    "X_train_scaled = scaler.transform(X_train)\n",
    "X_val_scaled = scaler.transform(X_val)\n",
    "X_test_scaled = scaler.transform(X_test)\n",
    "\n",
    "print(f\"Características escaladas:\")\n",
    "print(f\"  Train: {X_train_scaled.shape}\")\n",
    "print(f\"  Val:   {X_val_scaled.shape}\")\n",
    "print(f\"  Test:  {X_test_scaled.shape}\")\n",
    "\n",
    "# Verificar la normalización\n",
    "print(f\"\\nVerificación de normalización (Train set):\")\n",
    "import numpy as np\n",
    "for i, feature in enumerate(['Sex', 'Pclass', 'Age', 'SibSp', 'Parch']):\n",
    "    mean = X_train_scaled[:, i].mean()\n",
    "    std = X_train_scaled[:, i].std()\n",
    "    print(f\"  {feature}: media={mean:.3f}, std={std:.3f}\")\n",
    "\n",
    "# Guardar el scaler para uso posterior\n",
    "import pickle\n",
    "with open('models/svm_scaler.pkl', 'wb') as f:\n",
    "    pickle.dump(scaler, f)\n",
    "print(\"\\n✅ Scaler guardado en 'models/svm_scaler.pkl'\")"
   ]
  },
  {
   "cell_type": "code",
   "execution_count": 53,
   "id": "dd097066",
   "metadata": {},
   "outputs": [
    {
     "name": "stdout",
     "output_type": "stream",
     "text": [
      "Entrenando modelo SVM básico...\n",
      "✅ Modelo SVM básico entrenado con datos escalados\n"
     ]
    }
   ],
   "source": [
    "# CORREGIR: Entrenar con datos escalados\n",
    "from sklearn.svm import SVC\n",
    "\n",
    "print(\"Entrenando modelo SVM básico...\")\n",
    "model_basic = SVC(random_state=42)\n",
    "model_basic.fit(X_train_scaled, y_train)  # ← USAR DATOS ESCALADOS\n",
    "\n",
    "print(\"✅ Modelo SVM básico entrenado con datos escalados\")"
   ]
  },
  {
   "cell_type": "code",
   "execution_count": 54,
   "id": "f59b6297",
   "metadata": {},
   "outputs": [
    {
     "name": "stdout",
     "output_type": "stream",
     "text": [
      "Predicciones del modelo básico en validation set completadas\n"
     ]
    }
   ],
   "source": [
    "# Evaluación del modelo básico en validation set\n",
    "y_val_pred_basic = model_basic.predict(X_val_scaled)\n",
    "print(\"Predicciones del modelo básico en validation set completadas\")"
   ]
  },
  {
   "cell_type": "code",
   "execution_count": 55,
   "id": "e3848d10",
   "metadata": {},
   "outputs": [
    {
     "name": "stdout",
     "output_type": "stream",
     "text": [
      "=== EVALUACIÓN MODELO SVM BÁSICO (Validation Set) ===\n",
      "Confusion Matrix:\n",
      "[[71 11]\n",
      " [11 41]]\n",
      "\n",
      "Classification Report:\n",
      "              precision    recall  f1-score   support\n",
      "\n",
      "           0       0.87      0.87      0.87        82\n",
      "           1       0.79      0.79      0.79        52\n",
      "\n",
      "    accuracy                           0.84       134\n",
      "   macro avg       0.83      0.83      0.83       134\n",
      "weighted avg       0.84      0.84      0.84       134\n",
      "\n"
     ]
    }
   ],
   "source": [
    "from sklearn.metrics import classification_report, confusion_matrix\n",
    "\n",
    "print(\"=== EVALUACIÓN MODELO SVM BÁSICO (Validation Set) ===\")\n",
    "cm_basic = confusion_matrix(y_val, y_val_pred_basic)\n",
    "print(\"Confusion Matrix:\")\n",
    "print(cm_basic)\n",
    "print(f\"\\nClassification Report:\")\n",
    "print(classification_report(y_val, y_val_pred_basic))"
   ]
  },
  {
   "cell_type": "code",
   "execution_count": 56,
   "id": "996adefe",
   "metadata": {},
   "outputs": [
    {
     "name": "stdout",
     "output_type": "stream",
     "text": [
      "=== MÉTRICAS MODELO SVM BÁSICO (Validation Set) ===\n",
      "Accuracy: 0.836\n",
      "Precision: 0.788\n",
      "Recall: 0.788\n",
      "F1 Score: 0.788\n",
      "ROC AUC: 0.827\n",
      "PR AUC: 0.704\n",
      "Matthews Corrcoef: 0.654\n",
      "Balanced Accuracy: 0.827\n",
      "Brier Score: 0.164\n"
     ]
    }
   ],
   "source": [
    "# Métricas detalladas del modelo básico\n",
    "from sklearn.metrics import (\n",
    "    accuracy_score, precision_score, recall_score, f1_score,\n",
    "    roc_auc_score, average_precision_score, matthews_corrcoef,\n",
    "    balanced_accuracy_score, brier_score_loss\n",
    ")\n",
    "\n",
    "# Calcular métricas en validation set\n",
    "accuracy_basic = accuracy_score(y_val, y_val_pred_basic)\n",
    "precision_basic = precision_score(y_val, y_val_pred_basic, zero_division=0)\n",
    "recall_basic = recall_score(y_val, y_val_pred_basic, zero_division=0)\n",
    "f1_basic = f1_score(y_val, y_val_pred_basic, zero_division=0)\n",
    "roc_auc_basic = roc_auc_score(y_val, y_val_pred_basic)\n",
    "pr_auc_basic = average_precision_score(y_val, y_val_pred_basic)\n",
    "mcc_basic = matthews_corrcoef(y_val, y_val_pred_basic)\n",
    "balanced_acc_basic = balanced_accuracy_score(y_val, y_val_pred_basic)\n",
    "brier_basic = brier_score_loss(y_val, y_val_pred_basic)\n",
    "\n",
    "print(\"=== MÉTRICAS MODELO SVM BÁSICO (Validation Set) ===\")\n",
    "print(f\"Accuracy: {accuracy_basic:.3f}\")\n",
    "print(f\"Precision: {precision_basic:.3f}\")\n",
    "print(f\"Recall: {recall_basic:.3f}\")\n",
    "print(f\"F1 Score: {f1_basic:.3f}\")\n",
    "print(f\"ROC AUC: {roc_auc_basic:.3f}\")\n",
    "print(f\"PR AUC: {pr_auc_basic:.3f}\")\n",
    "print(f\"Matthews Corrcoef: {mcc_basic:.3f}\")\n",
    "print(f\"Balanced Accuracy: {balanced_acc_basic:.3f}\")\n",
    "print(f\"Brier Score: {brier_basic:.3f}\")\n",
    "\n",
    "# Almacenar resultados para comparar\n",
    "results_basic = {\n",
    "    'model_type': 'SVM_Basic',\n",
    "    'accuracy': accuracy_basic,\n",
    "    'precision': precision_basic,\n",
    "    'recall': recall_basic,\n",
    "    'f1': f1_basic,\n",
    "    'roc_auc': roc_auc_basic,\n",
    "    'pr_auc': pr_auc_basic,\n",
    "    'matthews_corrcoef': mcc_basic,\n",
    "    'balanced_accuracy': balanced_acc_basic,\n",
    "    'brier_score': brier_basic\n",
    "}"
   ]
  },
  {
   "cell_type": "markdown",
   "id": "f1277a4b",
   "metadata": {},
   "source": [
    "### Optimizando hiperparametros"
   ]
  },
  {
   "cell_type": "code",
   "execution_count": 59,
   "id": "06153fde",
   "metadata": {},
   "outputs": [
    {
     "name": "stdout",
     "output_type": "stream",
     "text": [
      "=== OPTIMIZANDO HIPERPARÁMETROS CON GRIDSEARCH ===\n",
      "Probando 45 combinaciones...\n",
      "Iniciando búsqueda de hiperparámetros...\n"
     ]
    }
   ],
   "source": [
    "# OPTIMIZACIÓN DE HIPERPARÁMETROS MEJORADA\n",
    "from sklearn.model_selection import GridSearchCV\n",
    "\n",
    "print(\"=== OPTIMIZANDO HIPERPARÁMETROS CON GRIDSEARCH ===\")\n",
    "\n",
    "# Grid más amplio y estratégico\n",
    "svm = SVC(random_state=42)\n",
    "param_grid = {\n",
    "    'C': [ 0.1, 1, 10],\n",
    "    'gamma': ['scale', 'auto', 0.001, 0.01, 0.1,],\n",
    "    'kernel': ['rbf', 'poly', 'sigmoid']\n",
    "}\n",
    "\n",
    "# GridSearchCV con cross-validation estratificada\n",
    "print(f\"Probando {len(param_grid['C']) * len(param_grid['gamma']) * len(param_grid['kernel'])} combinaciones...\")\n",
    "grid = GridSearchCV(\n",
    "    svm, \n",
    "    param_grid, \n",
    "    cv=5,  # 5-fold cross validation\n",
    "    scoring='roc_auc',  # Optimizar por AUC\n",
    "    n_jobs=-1,  # Usar todos los cores\n",
    "    verbose=1  # Mostrar progreso\n",
    ")\n",
    "\n",
    "print(\"Iniciando búsqueda de hiperparámetros...\")"
   ]
  },
  {
   "cell_type": "code",
   "execution_count": 60,
   "id": "30e7f0ff",
   "metadata": {},
   "outputs": [
    {
     "name": "stdout",
     "output_type": "stream",
     "text": [
      "Fitting 5 folds for each of 45 candidates, totalling 225 fits\n",
      "✅ GridSearchCV completado!\n",
      "Mejor score de validación cruzada: 0.8479\n",
      "Mejores parámetros: {'C': 1, 'gamma': 0.001, 'kernel': 'rbf'}\n",
      "Mejor modelo: SVC(C=1, gamma=0.001, random_state=42)\n",
      "\n",
      "=== TOP 5 MODELOS ===\n",
      "1. Score: 0.8479 (±0.0267) - {'C': 1, 'gamma': 0.001, 'kernel': 'rbf'}\n",
      "2. Score: 0.8469 (±0.0278) - {'C': 0.1, 'gamma': 0.001, 'kernel': 'rbf'}\n",
      "3. Score: 0.8460 (±0.0317) - {'C': 0.1, 'gamma': 0.01, 'kernel': 'rbf'}\n",
      "4. Score: 0.8458 (±0.0295) - {'C': 10, 'gamma': 0.001, 'kernel': 'poly'}\n",
      "5. Score: 0.8457 (±0.0265) - {'C': 1, 'gamma': 0.001, 'kernel': 'sigmoid'}\n"
     ]
    }
   ],
   "source": [
    "# CORREGIR: Entrenar con datos escalados\n",
    "grid.fit(X_train_scaled, y_train)  # ← USAR DATOS ESCALADOS\n",
    "\n",
    "print(\"✅ GridSearchCV completado!\")\n",
    "print(f\"Mejor score de validación cruzada: {grid.best_score_:.4f}\")\n",
    "print(f\"Mejores parámetros: {grid.best_params_}\")\n",
    "\n",
    "# Obtener el mejor modelo\n",
    "best_svm = grid.best_estimator_\n",
    "print(f\"Mejor modelo: {best_svm}\")\n",
    "\n",
    "# Mostrar el ranking de los mejores modelos\n",
    "results_df = pd.DataFrame(grid.cv_results_)\n",
    "top_models = results_df.nlargest(5, 'mean_test_score')[['params', 'mean_test_score', 'std_test_score']]\n",
    "print(\"\\n=== TOP 5 MODELOS ===\")\n",
    "for i, (idx, row) in enumerate(top_models.iterrows()):\n",
    "    print(f\"{i+1}. Score: {row['mean_test_score']:.4f} (±{row['std_test_score']:.4f}) - {row['params']}\")"
   ]
  },
  {
   "cell_type": "code",
   "execution_count": 61,
   "id": "13a58e43",
   "metadata": {},
   "outputs": [
    {
     "data": {
      "text/html": [
       "<style>#sk-container-id-1 {\n",
       "  /* Definition of color scheme common for light and dark mode */\n",
       "  --sklearn-color-text: #000;\n",
       "  --sklearn-color-text-muted: #666;\n",
       "  --sklearn-color-line: gray;\n",
       "  /* Definition of color scheme for unfitted estimators */\n",
       "  --sklearn-color-unfitted-level-0: #fff5e6;\n",
       "  --sklearn-color-unfitted-level-1: #f6e4d2;\n",
       "  --sklearn-color-unfitted-level-2: #ffe0b3;\n",
       "  --sklearn-color-unfitted-level-3: chocolate;\n",
       "  /* Definition of color scheme for fitted estimators */\n",
       "  --sklearn-color-fitted-level-0: #f0f8ff;\n",
       "  --sklearn-color-fitted-level-1: #d4ebff;\n",
       "  --sklearn-color-fitted-level-2: #b3dbfd;\n",
       "  --sklearn-color-fitted-level-3: cornflowerblue;\n",
       "\n",
       "  /* Specific color for light theme */\n",
       "  --sklearn-color-text-on-default-background: var(--sg-text-color, var(--theme-code-foreground, var(--jp-content-font-color1, black)));\n",
       "  --sklearn-color-background: var(--sg-background-color, var(--theme-background, var(--jp-layout-color0, white)));\n",
       "  --sklearn-color-border-box: var(--sg-text-color, var(--theme-code-foreground, var(--jp-content-font-color1, black)));\n",
       "  --sklearn-color-icon: #696969;\n",
       "\n",
       "  @media (prefers-color-scheme: dark) {\n",
       "    /* Redefinition of color scheme for dark theme */\n",
       "    --sklearn-color-text-on-default-background: var(--sg-text-color, var(--theme-code-foreground, var(--jp-content-font-color1, white)));\n",
       "    --sklearn-color-background: var(--sg-background-color, var(--theme-background, var(--jp-layout-color0, #111)));\n",
       "    --sklearn-color-border-box: var(--sg-text-color, var(--theme-code-foreground, var(--jp-content-font-color1, white)));\n",
       "    --sklearn-color-icon: #878787;\n",
       "  }\n",
       "}\n",
       "\n",
       "#sk-container-id-1 {\n",
       "  color: var(--sklearn-color-text);\n",
       "}\n",
       "\n",
       "#sk-container-id-1 pre {\n",
       "  padding: 0;\n",
       "}\n",
       "\n",
       "#sk-container-id-1 input.sk-hidden--visually {\n",
       "  border: 0;\n",
       "  clip: rect(1px 1px 1px 1px);\n",
       "  clip: rect(1px, 1px, 1px, 1px);\n",
       "  height: 1px;\n",
       "  margin: -1px;\n",
       "  overflow: hidden;\n",
       "  padding: 0;\n",
       "  position: absolute;\n",
       "  width: 1px;\n",
       "}\n",
       "\n",
       "#sk-container-id-1 div.sk-dashed-wrapped {\n",
       "  border: 1px dashed var(--sklearn-color-line);\n",
       "  margin: 0 0.4em 0.5em 0.4em;\n",
       "  box-sizing: border-box;\n",
       "  padding-bottom: 0.4em;\n",
       "  background-color: var(--sklearn-color-background);\n",
       "}\n",
       "\n",
       "#sk-container-id-1 div.sk-container {\n",
       "  /* jupyter's `normalize.less` sets `[hidden] { display: none; }`\n",
       "     but bootstrap.min.css set `[hidden] { display: none !important; }`\n",
       "     so we also need the `!important` here to be able to override the\n",
       "     default hidden behavior on the sphinx rendered scikit-learn.org.\n",
       "     See: https://github.com/scikit-learn/scikit-learn/issues/21755 */\n",
       "  display: inline-block !important;\n",
       "  position: relative;\n",
       "}\n",
       "\n",
       "#sk-container-id-1 div.sk-text-repr-fallback {\n",
       "  display: none;\n",
       "}\n",
       "\n",
       "div.sk-parallel-item,\n",
       "div.sk-serial,\n",
       "div.sk-item {\n",
       "  /* draw centered vertical line to link estimators */\n",
       "  background-image: linear-gradient(var(--sklearn-color-text-on-default-background), var(--sklearn-color-text-on-default-background));\n",
       "  background-size: 2px 100%;\n",
       "  background-repeat: no-repeat;\n",
       "  background-position: center center;\n",
       "}\n",
       "\n",
       "/* Parallel-specific style estimator block */\n",
       "\n",
       "#sk-container-id-1 div.sk-parallel-item::after {\n",
       "  content: \"\";\n",
       "  width: 100%;\n",
       "  border-bottom: 2px solid var(--sklearn-color-text-on-default-background);\n",
       "  flex-grow: 1;\n",
       "}\n",
       "\n",
       "#sk-container-id-1 div.sk-parallel {\n",
       "  display: flex;\n",
       "  align-items: stretch;\n",
       "  justify-content: center;\n",
       "  background-color: var(--sklearn-color-background);\n",
       "  position: relative;\n",
       "}\n",
       "\n",
       "#sk-container-id-1 div.sk-parallel-item {\n",
       "  display: flex;\n",
       "  flex-direction: column;\n",
       "}\n",
       "\n",
       "#sk-container-id-1 div.sk-parallel-item:first-child::after {\n",
       "  align-self: flex-end;\n",
       "  width: 50%;\n",
       "}\n",
       "\n",
       "#sk-container-id-1 div.sk-parallel-item:last-child::after {\n",
       "  align-self: flex-start;\n",
       "  width: 50%;\n",
       "}\n",
       "\n",
       "#sk-container-id-1 div.sk-parallel-item:only-child::after {\n",
       "  width: 0;\n",
       "}\n",
       "\n",
       "/* Serial-specific style estimator block */\n",
       "\n",
       "#sk-container-id-1 div.sk-serial {\n",
       "  display: flex;\n",
       "  flex-direction: column;\n",
       "  align-items: center;\n",
       "  background-color: var(--sklearn-color-background);\n",
       "  padding-right: 1em;\n",
       "  padding-left: 1em;\n",
       "}\n",
       "\n",
       "\n",
       "/* Toggleable style: style used for estimator/Pipeline/ColumnTransformer box that is\n",
       "clickable and can be expanded/collapsed.\n",
       "- Pipeline and ColumnTransformer use this feature and define the default style\n",
       "- Estimators will overwrite some part of the style using the `sk-estimator` class\n",
       "*/\n",
       "\n",
       "/* Pipeline and ColumnTransformer style (default) */\n",
       "\n",
       "#sk-container-id-1 div.sk-toggleable {\n",
       "  /* Default theme specific background. It is overwritten whether we have a\n",
       "  specific estimator or a Pipeline/ColumnTransformer */\n",
       "  background-color: var(--sklearn-color-background);\n",
       "}\n",
       "\n",
       "/* Toggleable label */\n",
       "#sk-container-id-1 label.sk-toggleable__label {\n",
       "  cursor: pointer;\n",
       "  display: flex;\n",
       "  width: 100%;\n",
       "  margin-bottom: 0;\n",
       "  padding: 0.5em;\n",
       "  box-sizing: border-box;\n",
       "  text-align: center;\n",
       "  align-items: start;\n",
       "  justify-content: space-between;\n",
       "  gap: 0.5em;\n",
       "}\n",
       "\n",
       "#sk-container-id-1 label.sk-toggleable__label .caption {\n",
       "  font-size: 0.6rem;\n",
       "  font-weight: lighter;\n",
       "  color: var(--sklearn-color-text-muted);\n",
       "}\n",
       "\n",
       "#sk-container-id-1 label.sk-toggleable__label-arrow:before {\n",
       "  /* Arrow on the left of the label */\n",
       "  content: \"▸\";\n",
       "  float: left;\n",
       "  margin-right: 0.25em;\n",
       "  color: var(--sklearn-color-icon);\n",
       "}\n",
       "\n",
       "#sk-container-id-1 label.sk-toggleable__label-arrow:hover:before {\n",
       "  color: var(--sklearn-color-text);\n",
       "}\n",
       "\n",
       "/* Toggleable content - dropdown */\n",
       "\n",
       "#sk-container-id-1 div.sk-toggleable__content {\n",
       "  display: none;\n",
       "  text-align: left;\n",
       "  /* unfitted */\n",
       "  background-color: var(--sklearn-color-unfitted-level-0);\n",
       "}\n",
       "\n",
       "#sk-container-id-1 div.sk-toggleable__content.fitted {\n",
       "  /* fitted */\n",
       "  background-color: var(--sklearn-color-fitted-level-0);\n",
       "}\n",
       "\n",
       "#sk-container-id-1 div.sk-toggleable__content pre {\n",
       "  margin: 0.2em;\n",
       "  border-radius: 0.25em;\n",
       "  color: var(--sklearn-color-text);\n",
       "  /* unfitted */\n",
       "  background-color: var(--sklearn-color-unfitted-level-0);\n",
       "}\n",
       "\n",
       "#sk-container-id-1 div.sk-toggleable__content.fitted pre {\n",
       "  /* unfitted */\n",
       "  background-color: var(--sklearn-color-fitted-level-0);\n",
       "}\n",
       "\n",
       "#sk-container-id-1 input.sk-toggleable__control:checked~div.sk-toggleable__content {\n",
       "  /* Expand drop-down */\n",
       "  display: block;\n",
       "  width: 100%;\n",
       "  overflow: visible;\n",
       "}\n",
       "\n",
       "#sk-container-id-1 input.sk-toggleable__control:checked~label.sk-toggleable__label-arrow:before {\n",
       "  content: \"▾\";\n",
       "}\n",
       "\n",
       "/* Pipeline/ColumnTransformer-specific style */\n",
       "\n",
       "#sk-container-id-1 div.sk-label input.sk-toggleable__control:checked~label.sk-toggleable__label {\n",
       "  color: var(--sklearn-color-text);\n",
       "  background-color: var(--sklearn-color-unfitted-level-2);\n",
       "}\n",
       "\n",
       "#sk-container-id-1 div.sk-label.fitted input.sk-toggleable__control:checked~label.sk-toggleable__label {\n",
       "  background-color: var(--sklearn-color-fitted-level-2);\n",
       "}\n",
       "\n",
       "/* Estimator-specific style */\n",
       "\n",
       "/* Colorize estimator box */\n",
       "#sk-container-id-1 div.sk-estimator input.sk-toggleable__control:checked~label.sk-toggleable__label {\n",
       "  /* unfitted */\n",
       "  background-color: var(--sklearn-color-unfitted-level-2);\n",
       "}\n",
       "\n",
       "#sk-container-id-1 div.sk-estimator.fitted input.sk-toggleable__control:checked~label.sk-toggleable__label {\n",
       "  /* fitted */\n",
       "  background-color: var(--sklearn-color-fitted-level-2);\n",
       "}\n",
       "\n",
       "#sk-container-id-1 div.sk-label label.sk-toggleable__label,\n",
       "#sk-container-id-1 div.sk-label label {\n",
       "  /* The background is the default theme color */\n",
       "  color: var(--sklearn-color-text-on-default-background);\n",
       "}\n",
       "\n",
       "/* On hover, darken the color of the background */\n",
       "#sk-container-id-1 div.sk-label:hover label.sk-toggleable__label {\n",
       "  color: var(--sklearn-color-text);\n",
       "  background-color: var(--sklearn-color-unfitted-level-2);\n",
       "}\n",
       "\n",
       "/* Label box, darken color on hover, fitted */\n",
       "#sk-container-id-1 div.sk-label.fitted:hover label.sk-toggleable__label.fitted {\n",
       "  color: var(--sklearn-color-text);\n",
       "  background-color: var(--sklearn-color-fitted-level-2);\n",
       "}\n",
       "\n",
       "/* Estimator label */\n",
       "\n",
       "#sk-container-id-1 div.sk-label label {\n",
       "  font-family: monospace;\n",
       "  font-weight: bold;\n",
       "  display: inline-block;\n",
       "  line-height: 1.2em;\n",
       "}\n",
       "\n",
       "#sk-container-id-1 div.sk-label-container {\n",
       "  text-align: center;\n",
       "}\n",
       "\n",
       "/* Estimator-specific */\n",
       "#sk-container-id-1 div.sk-estimator {\n",
       "  font-family: monospace;\n",
       "  border: 1px dotted var(--sklearn-color-border-box);\n",
       "  border-radius: 0.25em;\n",
       "  box-sizing: border-box;\n",
       "  margin-bottom: 0.5em;\n",
       "  /* unfitted */\n",
       "  background-color: var(--sklearn-color-unfitted-level-0);\n",
       "}\n",
       "\n",
       "#sk-container-id-1 div.sk-estimator.fitted {\n",
       "  /* fitted */\n",
       "  background-color: var(--sklearn-color-fitted-level-0);\n",
       "}\n",
       "\n",
       "/* on hover */\n",
       "#sk-container-id-1 div.sk-estimator:hover {\n",
       "  /* unfitted */\n",
       "  background-color: var(--sklearn-color-unfitted-level-2);\n",
       "}\n",
       "\n",
       "#sk-container-id-1 div.sk-estimator.fitted:hover {\n",
       "  /* fitted */\n",
       "  background-color: var(--sklearn-color-fitted-level-2);\n",
       "}\n",
       "\n",
       "/* Specification for estimator info (e.g. \"i\" and \"?\") */\n",
       "\n",
       "/* Common style for \"i\" and \"?\" */\n",
       "\n",
       ".sk-estimator-doc-link,\n",
       "a:link.sk-estimator-doc-link,\n",
       "a:visited.sk-estimator-doc-link {\n",
       "  float: right;\n",
       "  font-size: smaller;\n",
       "  line-height: 1em;\n",
       "  font-family: monospace;\n",
       "  background-color: var(--sklearn-color-background);\n",
       "  border-radius: 1em;\n",
       "  height: 1em;\n",
       "  width: 1em;\n",
       "  text-decoration: none !important;\n",
       "  margin-left: 0.5em;\n",
       "  text-align: center;\n",
       "  /* unfitted */\n",
       "  border: var(--sklearn-color-unfitted-level-1) 1pt solid;\n",
       "  color: var(--sklearn-color-unfitted-level-1);\n",
       "}\n",
       "\n",
       ".sk-estimator-doc-link.fitted,\n",
       "a:link.sk-estimator-doc-link.fitted,\n",
       "a:visited.sk-estimator-doc-link.fitted {\n",
       "  /* fitted */\n",
       "  border: var(--sklearn-color-fitted-level-1) 1pt solid;\n",
       "  color: var(--sklearn-color-fitted-level-1);\n",
       "}\n",
       "\n",
       "/* On hover */\n",
       "div.sk-estimator:hover .sk-estimator-doc-link:hover,\n",
       ".sk-estimator-doc-link:hover,\n",
       "div.sk-label-container:hover .sk-estimator-doc-link:hover,\n",
       ".sk-estimator-doc-link:hover {\n",
       "  /* unfitted */\n",
       "  background-color: var(--sklearn-color-unfitted-level-3);\n",
       "  color: var(--sklearn-color-background);\n",
       "  text-decoration: none;\n",
       "}\n",
       "\n",
       "div.sk-estimator.fitted:hover .sk-estimator-doc-link.fitted:hover,\n",
       ".sk-estimator-doc-link.fitted:hover,\n",
       "div.sk-label-container:hover .sk-estimator-doc-link.fitted:hover,\n",
       ".sk-estimator-doc-link.fitted:hover {\n",
       "  /* fitted */\n",
       "  background-color: var(--sklearn-color-fitted-level-3);\n",
       "  color: var(--sklearn-color-background);\n",
       "  text-decoration: none;\n",
       "}\n",
       "\n",
       "/* Span, style for the box shown on hovering the info icon */\n",
       ".sk-estimator-doc-link span {\n",
       "  display: none;\n",
       "  z-index: 9999;\n",
       "  position: relative;\n",
       "  font-weight: normal;\n",
       "  right: .2ex;\n",
       "  padding: .5ex;\n",
       "  margin: .5ex;\n",
       "  width: min-content;\n",
       "  min-width: 20ex;\n",
       "  max-width: 50ex;\n",
       "  color: var(--sklearn-color-text);\n",
       "  box-shadow: 2pt 2pt 4pt #999;\n",
       "  /* unfitted */\n",
       "  background: var(--sklearn-color-unfitted-level-0);\n",
       "  border: .5pt solid var(--sklearn-color-unfitted-level-3);\n",
       "}\n",
       "\n",
       ".sk-estimator-doc-link.fitted span {\n",
       "  /* fitted */\n",
       "  background: var(--sklearn-color-fitted-level-0);\n",
       "  border: var(--sklearn-color-fitted-level-3);\n",
       "}\n",
       "\n",
       ".sk-estimator-doc-link:hover span {\n",
       "  display: block;\n",
       "}\n",
       "\n",
       "/* \"?\"-specific style due to the `<a>` HTML tag */\n",
       "\n",
       "#sk-container-id-1 a.estimator_doc_link {\n",
       "  float: right;\n",
       "  font-size: 1rem;\n",
       "  line-height: 1em;\n",
       "  font-family: monospace;\n",
       "  background-color: var(--sklearn-color-background);\n",
       "  border-radius: 1rem;\n",
       "  height: 1rem;\n",
       "  width: 1rem;\n",
       "  text-decoration: none;\n",
       "  /* unfitted */\n",
       "  color: var(--sklearn-color-unfitted-level-1);\n",
       "  border: var(--sklearn-color-unfitted-level-1) 1pt solid;\n",
       "}\n",
       "\n",
       "#sk-container-id-1 a.estimator_doc_link.fitted {\n",
       "  /* fitted */\n",
       "  border: var(--sklearn-color-fitted-level-1) 1pt solid;\n",
       "  color: var(--sklearn-color-fitted-level-1);\n",
       "}\n",
       "\n",
       "/* On hover */\n",
       "#sk-container-id-1 a.estimator_doc_link:hover {\n",
       "  /* unfitted */\n",
       "  background-color: var(--sklearn-color-unfitted-level-3);\n",
       "  color: var(--sklearn-color-background);\n",
       "  text-decoration: none;\n",
       "}\n",
       "\n",
       "#sk-container-id-1 a.estimator_doc_link.fitted:hover {\n",
       "  /* fitted */\n",
       "  background-color: var(--sklearn-color-fitted-level-3);\n",
       "}\n",
       "\n",
       ".estimator-table summary {\n",
       "    padding: .5rem;\n",
       "    font-family: monospace;\n",
       "    cursor: pointer;\n",
       "}\n",
       "\n",
       ".estimator-table details[open] {\n",
       "    padding-left: 0.1rem;\n",
       "    padding-right: 0.1rem;\n",
       "    padding-bottom: 0.3rem;\n",
       "}\n",
       "\n",
       ".estimator-table .parameters-table {\n",
       "    margin-left: auto !important;\n",
       "    margin-right: auto !important;\n",
       "}\n",
       "\n",
       ".estimator-table .parameters-table tr:nth-child(odd) {\n",
       "    background-color: #fff;\n",
       "}\n",
       "\n",
       ".estimator-table .parameters-table tr:nth-child(even) {\n",
       "    background-color: #f6f6f6;\n",
       "}\n",
       "\n",
       ".estimator-table .parameters-table tr:hover {\n",
       "    background-color: #e0e0e0;\n",
       "}\n",
       "\n",
       ".estimator-table table td {\n",
       "    border: 1px solid rgba(106, 105, 104, 0.232);\n",
       "}\n",
       "\n",
       ".user-set td {\n",
       "    color:rgb(255, 94, 0);\n",
       "    text-align: left;\n",
       "}\n",
       "\n",
       ".user-set td.value pre {\n",
       "    color:rgb(255, 94, 0) !important;\n",
       "    background-color: transparent !important;\n",
       "}\n",
       "\n",
       ".default td {\n",
       "    color: black;\n",
       "    text-align: left;\n",
       "}\n",
       "\n",
       ".user-set td i,\n",
       ".default td i {\n",
       "    color: black;\n",
       "}\n",
       "\n",
       ".copy-paste-icon {\n",
       "    background-image: url(data:image/svg+xml;base64,PHN2ZyB4bWxucz0iaHR0cDovL3d3dy53My5vcmcvMjAwMC9zdmciIHZpZXdCb3g9IjAgMCA0NDggNTEyIj48IS0tIUZvbnQgQXdlc29tZSBGcmVlIDYuNy4yIGJ5IEBmb250YXdlc29tZSAtIGh0dHBzOi8vZm9udGF3ZXNvbWUuY29tIExpY2Vuc2UgLSBodHRwczovL2ZvbnRhd2Vzb21lLmNvbS9saWNlbnNlL2ZyZWUgQ29weXJpZ2h0IDIwMjUgRm9udGljb25zLCBJbmMuLS0+PHBhdGggZD0iTTIwOCAwTDMzMi4xIDBjMTIuNyAwIDI0LjkgNS4xIDMzLjkgMTQuMWw2Ny45IDY3LjljOSA5IDE0LjEgMjEuMiAxNC4xIDMzLjlMNDQ4IDMzNmMwIDI2LjUtMjEuNSA0OC00OCA0OGwtMTkyIDBjLTI2LjUgMC00OC0yMS41LTQ4LTQ4bDAtMjg4YzAtMjYuNSAyMS41LTQ4IDQ4LTQ4ek00OCAxMjhsODAgMCAwIDY0LTY0IDAgMCAyNTYgMTkyIDAgMC0zMiA2NCAwIDAgNDhjMCAyNi41LTIxLjUgNDgtNDggNDhMNDggNTEyYy0yNi41IDAtNDgtMjEuNS00OC00OEwwIDE3NmMwLTI2LjUgMjEuNS00OCA0OC00OHoiLz48L3N2Zz4=);\n",
       "    background-repeat: no-repeat;\n",
       "    background-size: 14px 14px;\n",
       "    background-position: 0;\n",
       "    display: inline-block;\n",
       "    width: 14px;\n",
       "    height: 14px;\n",
       "    cursor: pointer;\n",
       "}\n",
       "</style><body><div id=\"sk-container-id-1\" class=\"sk-top-container\"><div class=\"sk-text-repr-fallback\"><pre>SVC(C=1, gamma=0.001, random_state=42)</pre><b>In a Jupyter environment, please rerun this cell to show the HTML representation or trust the notebook. <br />On GitHub, the HTML representation is unable to render, please try loading this page with nbviewer.org.</b></div><div class=\"sk-container\" hidden><div class=\"sk-item\"><div class=\"sk-estimator fitted sk-toggleable\"><input class=\"sk-toggleable__control sk-hidden--visually\" id=\"sk-estimator-id-1\" type=\"checkbox\" checked><label for=\"sk-estimator-id-1\" class=\"sk-toggleable__label fitted sk-toggleable__label-arrow\"><div><div>SVC</div></div><div><a class=\"sk-estimator-doc-link fitted\" rel=\"noreferrer\" target=\"_blank\" href=\"https://scikit-learn.org/1.7/modules/generated/sklearn.svm.SVC.html\">?<span>Documentation for SVC</span></a><span class=\"sk-estimator-doc-link fitted\">i<span>Fitted</span></span></div></label><div class=\"sk-toggleable__content fitted\" data-param-prefix=\"\">\n",
       "        <div class=\"estimator-table\">\n",
       "            <details>\n",
       "                <summary>Parameters</summary>\n",
       "                <table class=\"parameters-table\">\n",
       "                  <tbody>\n",
       "                    \n",
       "        <tr class=\"default\">\n",
       "            <td><i class=\"copy-paste-icon\"\n",
       "                 onclick=\"copyToClipboard('C',\n",
       "                          this.parentElement.nextElementSibling)\"\n",
       "            ></i></td>\n",
       "            <td class=\"param\">C&nbsp;</td>\n",
       "            <td class=\"value\">1</td>\n",
       "        </tr>\n",
       "    \n",
       "\n",
       "        <tr class=\"default\">\n",
       "            <td><i class=\"copy-paste-icon\"\n",
       "                 onclick=\"copyToClipboard('kernel',\n",
       "                          this.parentElement.nextElementSibling)\"\n",
       "            ></i></td>\n",
       "            <td class=\"param\">kernel&nbsp;</td>\n",
       "            <td class=\"value\">&#x27;rbf&#x27;</td>\n",
       "        </tr>\n",
       "    \n",
       "\n",
       "        <tr class=\"default\">\n",
       "            <td><i class=\"copy-paste-icon\"\n",
       "                 onclick=\"copyToClipboard('degree',\n",
       "                          this.parentElement.nextElementSibling)\"\n",
       "            ></i></td>\n",
       "            <td class=\"param\">degree&nbsp;</td>\n",
       "            <td class=\"value\">3</td>\n",
       "        </tr>\n",
       "    \n",
       "\n",
       "        <tr class=\"user-set\">\n",
       "            <td><i class=\"copy-paste-icon\"\n",
       "                 onclick=\"copyToClipboard('gamma',\n",
       "                          this.parentElement.nextElementSibling)\"\n",
       "            ></i></td>\n",
       "            <td class=\"param\">gamma&nbsp;</td>\n",
       "            <td class=\"value\">0.001</td>\n",
       "        </tr>\n",
       "    \n",
       "\n",
       "        <tr class=\"default\">\n",
       "            <td><i class=\"copy-paste-icon\"\n",
       "                 onclick=\"copyToClipboard('coef0',\n",
       "                          this.parentElement.nextElementSibling)\"\n",
       "            ></i></td>\n",
       "            <td class=\"param\">coef0&nbsp;</td>\n",
       "            <td class=\"value\">0.0</td>\n",
       "        </tr>\n",
       "    \n",
       "\n",
       "        <tr class=\"default\">\n",
       "            <td><i class=\"copy-paste-icon\"\n",
       "                 onclick=\"copyToClipboard('shrinking',\n",
       "                          this.parentElement.nextElementSibling)\"\n",
       "            ></i></td>\n",
       "            <td class=\"param\">shrinking&nbsp;</td>\n",
       "            <td class=\"value\">True</td>\n",
       "        </tr>\n",
       "    \n",
       "\n",
       "        <tr class=\"default\">\n",
       "            <td><i class=\"copy-paste-icon\"\n",
       "                 onclick=\"copyToClipboard('probability',\n",
       "                          this.parentElement.nextElementSibling)\"\n",
       "            ></i></td>\n",
       "            <td class=\"param\">probability&nbsp;</td>\n",
       "            <td class=\"value\">False</td>\n",
       "        </tr>\n",
       "    \n",
       "\n",
       "        <tr class=\"default\">\n",
       "            <td><i class=\"copy-paste-icon\"\n",
       "                 onclick=\"copyToClipboard('tol',\n",
       "                          this.parentElement.nextElementSibling)\"\n",
       "            ></i></td>\n",
       "            <td class=\"param\">tol&nbsp;</td>\n",
       "            <td class=\"value\">0.001</td>\n",
       "        </tr>\n",
       "    \n",
       "\n",
       "        <tr class=\"default\">\n",
       "            <td><i class=\"copy-paste-icon\"\n",
       "                 onclick=\"copyToClipboard('cache_size',\n",
       "                          this.parentElement.nextElementSibling)\"\n",
       "            ></i></td>\n",
       "            <td class=\"param\">cache_size&nbsp;</td>\n",
       "            <td class=\"value\">200</td>\n",
       "        </tr>\n",
       "    \n",
       "\n",
       "        <tr class=\"default\">\n",
       "            <td><i class=\"copy-paste-icon\"\n",
       "                 onclick=\"copyToClipboard('class_weight',\n",
       "                          this.parentElement.nextElementSibling)\"\n",
       "            ></i></td>\n",
       "            <td class=\"param\">class_weight&nbsp;</td>\n",
       "            <td class=\"value\">None</td>\n",
       "        </tr>\n",
       "    \n",
       "\n",
       "        <tr class=\"default\">\n",
       "            <td><i class=\"copy-paste-icon\"\n",
       "                 onclick=\"copyToClipboard('verbose',\n",
       "                          this.parentElement.nextElementSibling)\"\n",
       "            ></i></td>\n",
       "            <td class=\"param\">verbose&nbsp;</td>\n",
       "            <td class=\"value\">False</td>\n",
       "        </tr>\n",
       "    \n",
       "\n",
       "        <tr class=\"default\">\n",
       "            <td><i class=\"copy-paste-icon\"\n",
       "                 onclick=\"copyToClipboard('max_iter',\n",
       "                          this.parentElement.nextElementSibling)\"\n",
       "            ></i></td>\n",
       "            <td class=\"param\">max_iter&nbsp;</td>\n",
       "            <td class=\"value\">-1</td>\n",
       "        </tr>\n",
       "    \n",
       "\n",
       "        <tr class=\"default\">\n",
       "            <td><i class=\"copy-paste-icon\"\n",
       "                 onclick=\"copyToClipboard('decision_function_shape',\n",
       "                          this.parentElement.nextElementSibling)\"\n",
       "            ></i></td>\n",
       "            <td class=\"param\">decision_function_shape&nbsp;</td>\n",
       "            <td class=\"value\">&#x27;ovr&#x27;</td>\n",
       "        </tr>\n",
       "    \n",
       "\n",
       "        <tr class=\"default\">\n",
       "            <td><i class=\"copy-paste-icon\"\n",
       "                 onclick=\"copyToClipboard('break_ties',\n",
       "                          this.parentElement.nextElementSibling)\"\n",
       "            ></i></td>\n",
       "            <td class=\"param\">break_ties&nbsp;</td>\n",
       "            <td class=\"value\">False</td>\n",
       "        </tr>\n",
       "    \n",
       "\n",
       "        <tr class=\"user-set\">\n",
       "            <td><i class=\"copy-paste-icon\"\n",
       "                 onclick=\"copyToClipboard('random_state',\n",
       "                          this.parentElement.nextElementSibling)\"\n",
       "            ></i></td>\n",
       "            <td class=\"param\">random_state&nbsp;</td>\n",
       "            <td class=\"value\">42</td>\n",
       "        </tr>\n",
       "    \n",
       "                  </tbody>\n",
       "                </table>\n",
       "            </details>\n",
       "        </div>\n",
       "    </div></div></div></div></div><script>function copyToClipboard(text, element) {\n",
       "    // Get the parameter prefix from the closest toggleable content\n",
       "    const toggleableContent = element.closest('.sk-toggleable__content');\n",
       "    const paramPrefix = toggleableContent ? toggleableContent.dataset.paramPrefix : '';\n",
       "    const fullParamName = paramPrefix ? `${paramPrefix}${text}` : text;\n",
       "\n",
       "    const originalStyle = element.style;\n",
       "    const computedStyle = window.getComputedStyle(element);\n",
       "    const originalWidth = computedStyle.width;\n",
       "    const originalHTML = element.innerHTML.replace('Copied!', '');\n",
       "\n",
       "    navigator.clipboard.writeText(fullParamName)\n",
       "        .then(() => {\n",
       "            element.style.width = originalWidth;\n",
       "            element.style.color = 'green';\n",
       "            element.innerHTML = \"Copied!\";\n",
       "\n",
       "            setTimeout(() => {\n",
       "                element.innerHTML = originalHTML;\n",
       "                element.style = originalStyle;\n",
       "            }, 2000);\n",
       "        })\n",
       "        .catch(err => {\n",
       "            console.error('Failed to copy:', err);\n",
       "            element.style.color = 'red';\n",
       "            element.innerHTML = \"Failed!\";\n",
       "            setTimeout(() => {\n",
       "                element.innerHTML = originalHTML;\n",
       "                element.style = originalStyle;\n",
       "            }, 2000);\n",
       "        });\n",
       "    return false;\n",
       "}\n",
       "\n",
       "document.querySelectorAll('.fa-regular.fa-copy').forEach(function(element) {\n",
       "    const toggleableContent = element.closest('.sk-toggleable__content');\n",
       "    const paramPrefix = toggleableContent ? toggleableContent.dataset.paramPrefix : '';\n",
       "    const paramName = element.parentElement.nextElementSibling.textContent.trim();\n",
       "    const fullParamName = paramPrefix ? `${paramPrefix}${paramName}` : paramName;\n",
       "\n",
       "    element.setAttribute('title', fullParamName);\n",
       "});\n",
       "</script></body>"
      ],
      "text/plain": [
       "SVC(C=1, gamma=0.001, random_state=42)"
      ]
     },
     "execution_count": 61,
     "metadata": {},
     "output_type": "execute_result"
    }
   ],
   "source": [
    "grid.best_estimator_"
   ]
  },
  {
   "cell_type": "code",
   "execution_count": 62,
   "id": "b766d3e7",
   "metadata": {},
   "outputs": [
    {
     "data": {
      "text/plain": [
       "{'C': 1, 'gamma': 0.001, 'kernel': 'rbf'}"
      ]
     },
     "execution_count": 62,
     "metadata": {},
     "output_type": "execute_result"
    }
   ],
   "source": [
    "grid.best_params_"
   ]
  },
  {
   "cell_type": "code",
   "execution_count": 63,
   "id": "44778208",
   "metadata": {},
   "outputs": [
    {
     "name": "stdout",
     "output_type": "stream",
     "text": [
      "Predicciones del mejor modelo en validation set completadas\n"
     ]
    }
   ],
   "source": [
    "# Evaluación del mejor modelo en validation set\n",
    "y_val_pred_best = best_svm.predict(X_val_scaled)\n",
    "print(\"Predicciones del mejor modelo en validation set completadas\")"
   ]
  },
  {
   "cell_type": "code",
   "execution_count": 64,
   "id": "3e6ee8bb",
   "metadata": {},
   "outputs": [
    {
     "name": "stdout",
     "output_type": "stream",
     "text": [
      "=== EVALUACIÓN MEJOR MODELO SVM (Validation Set) ===\n",
      "Confusion Matrix:\n",
      "[[80  2]\n",
      " [26 26]]\n",
      "\n",
      "=== MÉTRICAS MEJOR MODELO SVM ===\n",
      "Accuracy: 0.791\n",
      "Precision: 0.929\n",
      "Recall: 0.500\n",
      "F1 Score: 0.650\n",
      "ROC AUC: 0.738\n",
      "PR AUC: 0.658\n",
      "Matthews Corrcoef: 0.570\n",
      "Balanced Accuracy: 0.738\n",
      "Brier Score: 0.209\n",
      "\n",
      "=== COMPARACIÓN CON MODELO BÁSICO ===\n",
      "Mejora en Accuracy: -0.045\n",
      "Mejora en ROC AUC: -0.089\n",
      "Mejora en F1 Score: -0.138\n"
     ]
    }
   ],
   "source": [
    "print(\"=== EVALUACIÓN MEJOR MODELO SVM (Validation Set) ===\")\n",
    "cm_best = confusion_matrix(y_val, y_val_pred_best)\n",
    "print(\"Confusion Matrix:\")\n",
    "print(cm_best)\n",
    "\n",
    "# Calcular métricas detalladas\n",
    "accuracy_best = accuracy_score(y_val, y_val_pred_best)\n",
    "precision_best = precision_score(y_val, y_val_pred_best, zero_division=0)\n",
    "recall_best = recall_score(y_val, y_val_pred_best, zero_division=0)\n",
    "f1_best = f1_score(y_val, y_val_pred_best, zero_division=0)\n",
    "roc_auc_best = roc_auc_score(y_val, y_val_pred_best)\n",
    "pr_auc_best = average_precision_score(y_val, y_val_pred_best)\n",
    "mcc_best = matthews_corrcoef(y_val, y_val_pred_best)\n",
    "balanced_acc_best = balanced_accuracy_score(y_val, y_val_pred_best)\n",
    "brier_best = brier_score_loss(y_val, y_val_pred_best)\n",
    "\n",
    "print(f\"\\n=== MÉTRICAS MEJOR MODELO SVM ===\")\n",
    "print(f\"Accuracy: {accuracy_best:.3f}\")\n",
    "print(f\"Precision: {precision_best:.3f}\")\n",
    "print(f\"Recall: {recall_best:.3f}\")\n",
    "print(f\"F1 Score: {f1_best:.3f}\")\n",
    "print(f\"ROC AUC: {roc_auc_best:.3f}\")\n",
    "print(f\"PR AUC: {pr_auc_best:.3f}\")\n",
    "print(f\"Matthews Corrcoef: {mcc_best:.3f}\")\n",
    "print(f\"Balanced Accuracy: {balanced_acc_best:.3f}\")\n",
    "print(f\"Brier Score: {brier_best:.3f}\")\n",
    "\n",
    "# Comparación con modelo básico\n",
    "print(f\"\\n=== COMPARACIÓN CON MODELO BÁSICO ===\")\n",
    "print(f\"Mejora en Accuracy: {accuracy_best - accuracy_basic:+.3f}\")\n",
    "print(f\"Mejora en ROC AUC: {roc_auc_best - roc_auc_basic:+.3f}\")\n",
    "print(f\"Mejora en F1 Score: {f1_best - f1_basic:+.3f}\")\n",
    "\n",
    "# Almacenar resultados del mejor modelo\n",
    "results_best = {\n",
    "    'model_type': 'SVM_Optimized',\n",
    "    'best_params': grid.best_params_,\n",
    "    'cv_score': grid.best_score_,\n",
    "    'accuracy': accuracy_best,\n",
    "    'precision': precision_best,\n",
    "    'recall': recall_best,\n",
    "    'f1': f1_best,\n",
    "    'roc_auc': roc_auc_best,\n",
    "    'pr_auc': pr_auc_best,\n",
    "    'matthews_corrcoef': mcc_best,\n",
    "    'balanced_accuracy': balanced_acc_best,\n",
    "    'brier_score': brier_best\n",
    "}"
   ]
  },
  {
   "cell_type": "code",
   "execution_count": 65,
   "id": "63fa51a3",
   "metadata": {},
   "outputs": [
    {
     "name": "stdout",
     "output_type": "stream",
     "text": [
      "=== CLASSIFICATION REPORT - MEJOR MODELO ===\n",
      "              precision    recall  f1-score   support\n",
      "\n",
      "           0       0.75      0.98      0.85        82\n",
      "           1       0.93      0.50      0.65        52\n",
      "\n",
      "    accuracy                           0.79       134\n",
      "   macro avg       0.84      0.74      0.75       134\n",
      "weighted avg       0.82      0.79      0.77       134\n",
      "\n",
      "\n",
      "============================================================\n",
      "EVALUACIÓN FINAL EN TEST SET\n",
      "============================================================\n",
      "Test Set Confusion Matrix:\n",
      "[[81  2]\n",
      " [31 20]]\n",
      "\n",
      "TEST SET MÉTRICAS FINALES:\n",
      "Accuracy: 0.754\n",
      "Precision: 0.909\n",
      "Recall: 0.392\n",
      "F1 Score: 0.548\n",
      "ROC AUC: 0.684\n",
      "PR AUC: 0.588\n",
      "Matthews Corrcoef: 0.482\n",
      "Balanced Accuracy: 0.684\n",
      "Brier Score: 0.246\n",
      "\n",
      "=== RESUMEN COMPARATIVO ===\n",
      "Métrica              Train CV   Validation   Test      \n",
      "-------------------------------------------------------\n",
      "ROC AUC              0.848      0.738        0.684     \n",
      "Accuracy             N/A        0.791        0.754     \n",
      "F1 Score             N/A        0.650        0.548     \n"
     ]
    }
   ],
   "source": [
    "print(\"=== CLASSIFICATION REPORT - MEJOR MODELO ===\")\n",
    "print(classification_report(y_val, y_val_pred_best))\n",
    "\n",
    "# EVALUACIÓN FINAL EN TEST SET\n",
    "print(\"\\n\" + \"=\"*60)\n",
    "print(\"EVALUACIÓN FINAL EN TEST SET\")\n",
    "print(\"=\"*60)\n",
    "\n",
    "y_test_pred_final = best_svm.predict(X_test_scaled)\n",
    "cm_test = confusion_matrix(y_test, y_test_pred_final)\n",
    "\n",
    "# Métricas finales en test set\n",
    "accuracy_test = accuracy_score(y_test, y_test_pred_final)\n",
    "precision_test = precision_score(y_test, y_test_pred_final, zero_division=0)\n",
    "recall_test = recall_score(y_test, y_test_pred_final, zero_division=0)\n",
    "f1_test = f1_score(y_test, y_test_pred_final, zero_division=0)\n",
    "roc_auc_test = roc_auc_score(y_test, y_test_pred_final)\n",
    "pr_auc_test = average_precision_score(y_test, y_test_pred_final)\n",
    "mcc_test = matthews_corrcoef(y_test, y_test_pred_final)\n",
    "balanced_acc_test = balanced_accuracy_score(y_test, y_test_pred_final)\n",
    "brier_test = brier_score_loss(y_test, y_test_pred_final)\n",
    "\n",
    "print(f\"Test Set Confusion Matrix:\")\n",
    "print(cm_test)\n",
    "print(f\"\\nTEST SET MÉTRICAS FINALES:\")\n",
    "print(f\"Accuracy: {accuracy_test:.3f}\")\n",
    "print(f\"Precision: {precision_test:.3f}\")\n",
    "print(f\"Recall: {recall_test:.3f}\")\n",
    "print(f\"F1 Score: {f1_test:.3f}\")\n",
    "print(f\"ROC AUC: {roc_auc_test:.3f}\")\n",
    "print(f\"PR AUC: {pr_auc_test:.3f}\")\n",
    "print(f\"Matthews Corrcoef: {mcc_test:.3f}\")\n",
    "print(f\"Balanced Accuracy: {balanced_acc_test:.3f}\")\n",
    "print(f\"Brier Score: {brier_test:.3f}\")\n",
    "\n",
    "print(f\"\\n=== RESUMEN COMPARATIVO ===\")\n",
    "print(f\"{'Métrica':<20} {'Train CV':<10} {'Validation':<12} {'Test':<10}\")\n",
    "print(\"-\" * 55)\n",
    "print(f\"{'ROC AUC':<20} {grid.best_score_:<10.3f} {roc_auc_best:<12.3f} {roc_auc_test:<10.3f}\")\n",
    "print(f\"{'Accuracy':<20} {'N/A':<10} {accuracy_best:<12.3f} {accuracy_test:<10.3f}\")\n",
    "print(f\"{'F1 Score':<20} {'N/A':<10} {f1_best:<12.3f} {f1_test:<10.3f}\")\n",
    "\n",
    "# Guardar métricas finales del test set\n",
    "results_final = {\n",
    "    'model_type': 'SVM_Final',\n",
    "    'best_params': grid.best_params_,\n",
    "    'cv_score': grid.best_score_,\n",
    "    'test_accuracy': accuracy_test,\n",
    "    'test_precision': precision_test,\n",
    "    'test_recall': recall_test,\n",
    "    'test_f1': f1_test,\n",
    "    'test_roc_auc': roc_auc_test,\n",
    "    'test_pr_auc': pr_auc_test,\n",
    "    'test_matthews_corrcoef': mcc_test,\n",
    "    'test_balanced_accuracy': balanced_acc_test,\n",
    "    'test_brier_score': brier_test\n",
    "}"
   ]
  },
  {
   "cell_type": "code",
   "execution_count": 66,
   "id": "c3392141",
   "metadata": {},
   "outputs": [
    {
     "name": "stdout",
     "output_type": "stream",
     "text": [
      "=== ANÁLISIS DE IMPORTANCIA DE CARACTERÍSTICAS ===\n",
      "Sex: ROC-AUC = 0.648\n",
      "Pclass: ROC-AUC = 0.811\n",
      "Age: ROC-AUC = 0.500\n",
      "SibSp: ROC-AUC = 0.500\n",
      "Parch: ROC-AUC = 0.500\n"
     ]
    },
    {
     "data": {
      "image/png": "[encoded data removed]",
      "text/plain": [
       "<Figure size 1500x1200 with 6 Axes>"
      ]
     },
     "metadata": {},
     "output_type": "display_data"
    },
    {
     "name": "stdout",
     "output_type": "stream",
     "text": [
      "\n",
      "=== RANKING DE CARACTERÍSTICAS (por ROC-AUC individual) ===\n",
      "1. Pclass    : 0.811\n",
      "2. Sex       : 0.648\n",
      "3. Age       : 0.500\n",
      "4. SibSp     : 0.500\n",
      "5. Parch     : 0.500\n"
     ]
    }
   ],
   "source": [
    "# ANÁLISIS DE IMPORTANCIA DE CARACTERÍSTICAS Y VISUALIZACIONES\n",
    "import matplotlib.pyplot as plt\n",
    "import numpy as np\n",
    "\n",
    "# Análisis con modelos SVM individuales por característica\n",
    "features = ['Sex', 'Pclass', 'Age', 'SibSp', 'Parch']\n",
    "feature_scores = []\n",
    "\n",
    "print(\"=== ANÁLISIS DE IMPORTANCIA DE CARACTERÍSTICAS ===\")\n",
    "plt.figure(figsize=(15, 12))\n",
    "\n",
    "for i, feature in enumerate(features):\n",
    "    # Entrenar SVM con una sola característica\n",
    "    X_feat = X_train_scaled[:, [i]]\n",
    "    X_val_feat = X_val_scaled[:, [i]]\n",
    "    \n",
    "    svm_1d = SVC(kernel='rbf', C=10, gamma=0.01, random_state=42)\n",
    "    svm_1d.fit(X_feat, y_train)\n",
    "    \n",
    "    # Evaluar en validation\n",
    "    y_pred_1d = svm_1d.predict(X_val_feat)\n",
    "    score_1d = roc_auc_score(y_val, y_pred_1d)\n",
    "    feature_scores.append(score_1d)\n",
    "    \n",
    "    print(f\"{feature}: ROC-AUC = {score_1d:.3f}\")\n",
    "    \n",
    "    # Visualización de la frontera de decisión\n",
    "    plt.subplot(2, 3, i+1)\n",
    "    \n",
    "    # Crear grid para la frontera\n",
    "    x_min, x_max = X_feat.min() - 1, X_feat.max() + 1\n",
    "    xx = np.linspace(x_min, x_max, 500).reshape(-1, 1)\n",
    "    Z = svm_1d.predict(xx)\n",
    "    \n",
    "    # Scatter plot de los datos\n",
    "    colors = ['red' if y == 0 else 'blue' for y in y_train]\n",
    "    plt.scatter(X_feat.ravel(), y_train, c=colors, alpha=0.6, edgecolors='k', s=20)\n",
    "    \n",
    "    # Frontera de decisión\n",
    "    plt.plot(xx, Z, color='black', linewidth=2, label='Decision Boundary')\n",
    "    \n",
    "    plt.title(f'{feature}\\nROC-AUC: {score_1d:.3f}', fontweight='bold')\n",
    "    plt.xlabel(f'{feature} (scaled)')\n",
    "    plt.ylabel('Survived')\n",
    "    plt.ylim(-0.2, 1.2)\n",
    "    plt.grid(True, alpha=0.3)\n",
    "\n",
    "# Gráfico de importancia de características\n",
    "plt.subplot(2, 3, 6)\n",
    "bars = plt.bar(features, feature_scores, color=['skyblue' if score < 0.6 else 'lightgreen' for score in feature_scores])\n",
    "plt.title('Feature Importance\\n(Individual ROC-AUC)', fontweight='bold')\n",
    "plt.ylabel('ROC-AUC Score')\n",
    "plt.ylim(0, 1)\n",
    "plt.axhline(y=0.5, color='red', linestyle='--', alpha=0.5, label='Random')\n",
    "\n",
    "# Añadir valores en las barras\n",
    "for bar, score in zip(bars, feature_scores):\n",
    "    plt.text(bar.get_x() + bar.get_width()/2, bar.get_height() + 0.01, \n",
    "             f'{score:.3f}', ha='center', va='bottom', fontweight='bold')\n",
    "\n",
    "plt.legend()\n",
    "plt.xticks(rotation=45)\n",
    "\n",
    "plt.tight_layout()\n",
    "plt.show()\n",
    "\n",
    "# Ranking de características\n",
    "feature_ranking = sorted(zip(features, feature_scores), key=lambda x: x[1], reverse=True)\n",
    "print(f\"\\n=== RANKING DE CARACTERÍSTICAS (por ROC-AUC individual) ===\")\n",
    "for i, (feature, score) in enumerate(feature_ranking, 1):\n",
    "    print(f\"{i}. {feature:<10}: {score:.3f}\")"
   ]
  },
  {
   "cell_type": "code",
   "execution_count": 68,
   "id": "60c881e2",
   "metadata": {},
   "outputs": [
    {
     "name": "stdout",
     "output_type": "stream",
     "text": [
      "=== GUARDANDO MODELO Y RESULTADOS ===\n",
      "✅ Mejor modelo SVM guardado en 'models/svm_model.pkl'\n",
      "✅ Scaler guardado en 'models/svm_scaler.pkl'\n",
      "✅ Resultados completos guardados en 'models/svm_results.pkl'\n",
      "✅ Resumen guardado en 'models/svm_summary.json'\n",
      "\n",
      "============================================================\n",
      "RESUMEN FINAL DEL MODELO SVM OPTIMIZADO\n",
      "============================================================\n",
      "✅ Mejor configuración: {'C': 1, 'gamma': 0.001, 'kernel': 'rbf'}\n",
      "✅ ROC-AUC Cross-Validation: 0.848\n",
      "✅ ROC-AUC Test Set: 0.684\n",
      "✅ Accuracy Test Set: 0.754\n",
      "✅ F1-Score Test Set: 0.548\n",
      "\n",
      "📁 Archivos guardados:\n",
      "   - models/svm_model.pkl (modelo entrenado)\n",
      "   - models/svm_scaler.pkl (preprocesador)\n",
      "   - models/svm_results.pkl (resultados completos)\n",
      "   - models/svm_summary.json (resumen legible)\n",
      "\n",
      "🎯 El modelo está listo para producción!\n",
      "   Para usar: cargar modelo + scaler y aplicar a datos escalados\n"
     ]
    }
   ],
   "source": [
    "# GUARDAR EL MEJOR MODELO Y RESULTADOS\n",
    "import pickle\n",
    "import os\n",
    "\n",
    "# Crear directorio de modelos si no existe\n",
    "os.makedirs('models', exist_ok=True)\n",
    "\n",
    "print(\"=== GUARDANDO MODELO Y RESULTADOS ===\")\n",
    "\n",
    "# 1. GUARDAR EL MEJOR MODELO (CORREGIDO)\n",
    "with open('models/svm_model.pkl', 'wb') as f:\n",
    "    pickle.dump(best_svm, f)  # ← GUARDAR EL MEJOR MODELO, NO EL BÁSICO\n",
    "print(\"✅ Mejor modelo SVM guardado en 'models/svm_model.pkl'\")\n",
    "\n",
    "# 2. GUARDAR EL SCALER (ya se guardó antes, pero confirmamos)\n",
    "print(\"✅ Scaler guardado en 'models/svm_scaler.pkl'\")\n",
    "\n",
    "# 3. GUARDAR RESULTADOS COMPLETOS\n",
    "results_complete = {\n",
    "    'model_info': {\n",
    "        'best_params': grid.best_params_,\n",
    "        'cv_score': grid.best_score_,\n",
    "        'model_class': str(best_svm.__class__),\n",
    "        'feature_names': ['Sex', 'Pclass', 'Age', 'SibSp', 'Parch'],\n",
    "        'preprocessing': 'StandardScaler applied',\n",
    "        'data_split': '70% train, 15% val, 15% test'\n",
    "    },\n",
    "    'validation_metrics': {\n",
    "        'accuracy': accuracy_best,\n",
    "        'precision': precision_best,\n",
    "        'recall': recall_best,\n",
    "        'f1': f1_best,\n",
    "        'roc_auc': roc_auc_best,\n",
    "        'pr_auc': pr_auc_best,\n",
    "        'matthews_corrcoef': mcc_best,\n",
    "        'balanced_accuracy': balanced_acc_best,\n",
    "        'brier_score': brier_best\n",
    "    },\n",
    "    'test_metrics': {\n",
    "        'accuracy': accuracy_test,\n",
    "        'precision': precision_test,\n",
    "        'recall': recall_test,\n",
    "        'f1': f1_test,\n",
    "        'roc_auc': roc_auc_test,\n",
    "        'pr_auc': pr_auc_test,\n",
    "        'matthews_corrcoef': mcc_test,\n",
    "        'balanced_accuracy': balanced_acc_test,\n",
    "        'brier_score': brier_test\n",
    "    },\n",
    "    'feature_importance': {\n",
    "        'individual_scores': dict(zip(features, feature_scores)),\n",
    "        'ranking': feature_ranking\n",
    "    },\n",
    "    'comparison_with_basic': {\n",
    "        'accuracy_improvement': accuracy_best - accuracy_basic,\n",
    "        'roc_auc_improvement': roc_auc_best - roc_auc_basic,\n",
    "        'f1_improvement': f1_best - f1_basic\n",
    "    }\n",
    "}\n",
    "\n",
    "# Guardar resultados completos\n",
    "with open('models/svm_results.pkl', 'wb') as f:\n",
    "    pickle.dump(results_complete, f)\n",
    "print(\"✅ Resultados completos guardados en 'models/svm_results.pkl'\")\n",
    "\n",
    "# 4. GUARDAR RESUMEN EN JSON (más fácil de leer)\n",
    "import json\n",
    "results_json = {\n",
    "    'model_summary': {\n",
    "        'best_params': grid.best_params_,\n",
    "        'cv_roc_auc': float(grid.best_score_),\n",
    "        'test_roc_auc': float(roc_auc_test),\n",
    "        'test_accuracy': float(accuracy_test),\n",
    "        'test_f1_score': float(f1_test)\n",
    "    },\n",
    "    'feature_importance': {\n",
    "        features[i]: float(score) for i, score in enumerate(feature_scores)\n",
    "    }\n",
    "}\n",
    "\n",
    "with open('models/svm_summary.json', 'w') as f:\n",
    "    json.dump(results_json, f, indent=2)\n",
    "print(\"✅ Resumen guardado en 'models/svm_summary.json'\")\n",
    "\n",
    "# MOSTRAR RESUMEN FINAL\n",
    "print(f\"\\n\" + \"=\"*60)\n",
    "print(\"RESUMEN FINAL DEL MODELO SVM OPTIMIZADO\")\n",
    "print(\"=\"*60)\n",
    "print(f\"✅ Mejor configuración: {grid.best_params_}\")\n",
    "print(f\"✅ ROC-AUC Cross-Validation: {grid.best_score_:.3f}\")\n",
    "print(f\"✅ ROC-AUC Test Set: {roc_auc_test:.3f}\")\n",
    "print(f\"✅ Accuracy Test Set: {accuracy_test:.3f}\")\n",
    "print(f\"✅ F1-Score Test Set: {f1_test:.3f}\")\n",
    "\n",
    "\n",
    "print(f\"\\n📁 Archivos guardados:\")\n",
    "print(f\"   - models/svm_model.pkl (modelo entrenado)\")\n",
    "print(f\"   - models/svm_scaler.pkl (preprocesador)\")\n",
    "print(f\"   - models/svm_results.pkl (resultados completos)\")\n",
    "print(f\"   - models/svm_summary.json (resumen legible)\")\n",
    "\n",
    "print(f\"\\n🎯 El modelo está listo para producción!\")\n",
    "print(f\"   Para usar: cargar modelo + scaler y aplicar a datos escalados\")"
   ]
  }
 ],
 "metadata": {
  "kernelspec": {
   "display_name": "Python 3",
   "language": "python",
   "name": "python3"
  },
  "language_info": {
   "codemirror_mode": {
    "name": "ipython",
    "version": 3
   },
   "file_extension": ".py",
   "mimetype": "text/x-python",
   "name": "python",
   "nbconvert_exporter": "python",
   "pygments_lexer": "ipython3",
   "version": "3.10.9"
  }
 },
 "nbformat": 4,
 "nbformat_minor": 5
}
