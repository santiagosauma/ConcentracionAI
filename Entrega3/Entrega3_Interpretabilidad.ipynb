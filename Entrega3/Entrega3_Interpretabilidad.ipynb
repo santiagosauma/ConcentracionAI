{
 "cells": [
  {
   "cell_type": "markdown",
   "id": "f1862847",
   "metadata": {},
   "source": [
    "# Entrega 3 - Interpretabilidad de Modelos\n",
    "## Análisis SHAP y LIME para el Titanic\n",
    "\n",
    "Este notebook contiene el análisis completo de interpretabilidad de los modelos de machine learning, incluyendo:\n",
    "- Análisis SHAP (SHapley Additive exPlanations)\n",
    "- Explicaciones LIME (Local Interpretable Model-agnostic Explanations)\n",
    "- Visualizaciones de interpretación global y local\n",
    "- Insights sobre el comportamiento del modelo"
   ]
  }
 ],
 "metadata": {
  "language_info": {
   "name": "python"
  }
 },
 "nbformat": 4,
 "nbformat_minor": 5
}
