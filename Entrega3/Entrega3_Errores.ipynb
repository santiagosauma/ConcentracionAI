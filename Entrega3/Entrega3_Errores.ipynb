{
 "cells": [
  {
   "cell_type": "markdown",
   "id": "24d76110",
   "metadata": {},
   "source": [
    "# Entrega 3 - Análisis de Errores\n",
    "## Caracterización Detallada de Errores del Modelo\n",
    "\n",
    "Este notebook contiene el análisis exhaustivo de los errores del modelo de predicción del Titanic:\n",
    "- Caracterización detallada de errores (falsos positivos y negativos)\n",
    "- Análisis de casos difíciles de clasificar\n",
    "- Segmentación por subgrupos poblacionales\n",
    "- Identificación de patrones en errores\n",
    "- Estrategias de mejora basadas en análisis de errores"
   ]
  }
 ],
 "metadata": {
  "language_info": {
   "name": "python"
  }
 },
 "nbformat": 4,
 "nbformat_minor": 5
}
