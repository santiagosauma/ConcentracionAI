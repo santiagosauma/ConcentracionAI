{
 "cells": [
  {
   "cell_type": "markdown",
   "id": "24d76110",
   "metadata": {},
   "source": [
    "# Entrega 3 - Análisis de Errores\n",
    "## Caracterización Detallada de Errores del Modelo\n",
    "\n",
    "Este notebook contiene el análisis exhaustivo de los errores del modelo de predicción del Titanic:\n",
    "- Caracterización detallada de errores (falsos positivos y negativos)\n",
    "- Análisis de casos difíciles de clasificar\n",
    "- Segmentación por subgrupos poblacionales\n",
    "- Identificación de patrones en errores\n",
    "- Estrategias de mejora basadas en análisis de errores"
   ]
  },
  {
   "cell_type": "markdown",
   "id": "46b873cc",
   "metadata": {},
   "source": [
    "## Logistic Regresion "
   ]
  },
  {
   "cell_type": "markdown",
   "id": "87fd805d",
   "metadata": {},
   "source": [
    "## Random Forest"
   ]
  },
  {
   "cell_type": "markdown",
   "id": "b6adb9cf",
   "metadata": {},
   "source": [
    "## XG Booost"
   ]
  },
  {
   "cell_type": "markdown",
   "id": "738eeafb",
   "metadata": {},
   "source": [
    "## Support Vector Machine"
   ]
  }
 ],
 "metadata": {
  "kernelspec": {
   "display_name": "Python 3",
   "language": "python",
   "name": "python3"
  },
  "language_info": {
   "name": "python",
   "version": "3.13.7"
  }
 },
 "nbformat": 4,
 "nbformat_minor": 5
}
